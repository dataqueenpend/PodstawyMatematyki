{
 "cells": [
  {
   "cell_type": "markdown",
   "id": "694759b8-403d-40c6-ab1d-dc4cca7cb56b",
   "metadata": {},
   "source": [
    "# Algerba liniowa\n",
    "## Rodzaje macierzy"
   ]
  },
  {
   "cell_type": "markdown",
   "id": "c201e3bd-fbba-4095-a398-a05f378bc4c7",
   "metadata": {},
   "source": [
    "### Macierz kwadratowa\n",
    "\n",
    "Macierz o równej liczbie kolumn i wierszy. Wykorzystywana do reprezentowania przekształceń liniowych ."
   ]
  },
  {
   "cell_type": "code",
   "execution_count": 8,
   "id": "1e4be201-acd3-415e-8597-82526d54b9c3",
   "metadata": {},
   "outputs": [
    {
     "data": {
      "text/plain": [
       "array([[1, 2],\n",
       "       [2, 1]])"
      ]
     },
     "execution_count": 8,
     "metadata": {},
     "output_type": "execute_result"
    }
   ],
   "source": [
    "import numpy as np\n",
    "from sympy import *\n",
    "np.array([[1,2], [2,1]])"
   ]
  },
  {
   "cell_type": "markdown",
   "id": "6ab7b465-5cc1-476f-9434-dcfb4cee9005",
   "metadata": {},
   "source": [
    "### Macierz jednostkowa\n",
    "Przekątna macierzy jednostkowej (tożsamościowej) zawiera same jedynki, a pozostałe wartości macierzy są równe zeru. Mają duże znacznie przy rozwiązywanie układów równań."
   ]
  },
  {
   "cell_type": "code",
   "execution_count": 2,
   "id": "817e4317-fc73-4e50-9700-7a46c52ab7e3",
   "metadata": {},
   "outputs": [
    {
     "data": {
      "text/plain": [
       "array([[1, 0, 0],\n",
       "       [0, 1, 0],\n",
       "       [0, 0, 1]])"
      ]
     },
     "execution_count": 2,
     "metadata": {},
     "output_type": "execute_result"
    }
   ],
   "source": [
    "np.array ([[1,0,0], [0,1,0], [0,0,1]])"
   ]
  },
  {
   "cell_type": "markdown",
   "id": "415a0119-426b-4795-a882-f6eb7199b5ce",
   "metadata": {},
   "source": [
    "### Macierz odwrotna\n",
    "Macierz odwrotna odwaraca przekształcenia zdefiniowane przez inną macierz."
   ]
  },
  {
   "cell_type": "code",
   "execution_count": 3,
   "id": "ce925908-5d40-4297-aa9f-c097778bab65",
   "metadata": {},
   "outputs": [
    {
     "data": {
      "text/plain": [
       "array([[4, 2, 4],\n",
       "       [5, 3, 7],\n",
       "       [9, 3, 6]])"
      ]
     },
     "execution_count": 3,
     "metadata": {},
     "output_type": "execute_result"
    }
   ],
   "source": [
    "a = np.array([[4,2,4], [5,3,7], [9,3,6]])\n",
    "a"
   ]
  },
  {
   "cell_type": "code",
   "execution_count": 4,
   "id": "f5ec7cfc-e2ac-47a8-a7a7-1586bdd1b04d",
   "metadata": {},
   "outputs": [
    {
     "data": {
      "text/plain": [
       "array([[-0.5       ,  0.        ,  0.33333333],\n",
       "       [ 5.5       , -2.        ,  1.33333333],\n",
       "       [-2.        ,  1.        ,  0.33333333]])"
      ]
     },
     "execution_count": 4,
     "metadata": {},
     "output_type": "execute_result"
    }
   ],
   "source": [
    "a_neg = np.array([[-0.5, 0,1/3], [5.5, -2, 4/3], [-2, 1, 1/3]])\n",
    "a_neg"
   ]
  },
  {
   "cell_type": "markdown",
   "id": "266ed75b-edbe-4149-8a19-a358ca86ef5c",
   "metadata": {},
   "source": [
    "Macierz odwrotną dla macierzy A jesteśmy w stanie obliczyć z pomocą numpy/sympy.\n",
    "\n",
    "Gdy pomnożymy macierz odwrotną przez macierz a, otrzymamy macierz jednostkową. "
   ]
  },
  {
   "cell_type": "code",
   "execution_count": 9,
   "id": "ff821ca3-24f3-40cb-ad2f-cfe4c1ffee15",
   "metadata": {},
   "outputs": [],
   "source": [
    "A = Matrix([\n",
    "    [4,2,4],\n",
    "    [5,3,7],\n",
    "    [9,3,6]\n",
    "])"
   ]
  },
  {
   "cell_type": "code",
   "execution_count": 11,
   "id": "ba4865b3-6420-4156-bf6f-742673563586",
   "metadata": {},
   "outputs": [
    {
     "data": {
      "text/latex": [
       "$\\displaystyle \\left[\\begin{matrix}- \\frac{1}{2} & 0 & \\frac{1}{3}\\\\\\frac{11}{2} & -2 & - \\frac{4}{3}\\\\-2 & 1 & \\frac{1}{3}\\end{matrix}\\right]$"
      ],
      "text/plain": [
       "Matrix([\n",
       "[-1/2,  0,  1/3],\n",
       "[11/2, -2, -4/3],\n",
       "[  -2,  1,  1/3]])"
      ]
     },
     "execution_count": 11,
     "metadata": {},
     "output_type": "execute_result"
    }
   ],
   "source": [
    "odwrotna_A = A.inv()\n",
    "odwrotna_A"
   ]
  },
  {
   "cell_type": "code",
   "execution_count": 14,
   "id": "e6b0f687-e080-4543-b83e-3a1d58ebe374",
   "metadata": {},
   "outputs": [
    {
     "data": {
      "text/latex": [
       "$\\displaystyle \\left[\\begin{matrix}1 & 0 & 0\\\\0 & 1 & 0\\\\0 & 0 & 1\\end{matrix}\\right]$"
      ],
      "text/plain": [
       "Matrix([\n",
       "[1, 0, 0],\n",
       "[0, 1, 0],\n",
       "[0, 0, 1]])"
      ]
     },
     "execution_count": 14,
     "metadata": {},
     "output_type": "execute_result"
    }
   ],
   "source": [
    "jednostkowa = odwrotna_A * A\n",
    "jednostkowa"
   ]
  },
  {
   "cell_type": "markdown",
   "id": "e87087cb-ae5b-46cb-b953-0da39d02c574",
   "metadata": {},
   "source": [
    "### Macierz diagonalna\n",
    "\n",
    "Idea macierzy diagonalnej jest podobna do macierzy jednostkowej. Z tym wyjątkiem, że w przypadku macierzy diagonalnej wartości poprzekątnej są różne od 1. "
   ]
  },
  {
   "cell_type": "code",
   "execution_count": 15,
   "id": "96c6ef6a-b02b-4bed-a5dc-ff51bce3db6b",
   "metadata": {},
   "outputs": [
    {
     "data": {
      "text/latex": [
       "$\\displaystyle \\left[\\begin{matrix}4 & 0 & 0\\\\0 & 2 & 0\\\\0 & 0 & 5\\end{matrix}\\right]$"
      ],
      "text/plain": [
       "Matrix([\n",
       "[4, 0, 0],\n",
       "[0, 2, 0],\n",
       "[0, 0, 5]])"
      ]
     },
     "execution_count": 15,
     "metadata": {},
     "output_type": "execute_result"
    }
   ],
   "source": [
    "diag = Matrix([\n",
    "    [4,0,0],\n",
    "    [0,2,0],\n",
    "    [0,0,5]])\n",
    "diag"
   ]
  },
  {
   "cell_type": "markdown",
   "id": "bf2a1b6d-49a8-46fa-af52-12f2412411da",
   "metadata": {},
   "source": [
    "### Macierz trójkątna\n",
    "W przypadku macierzy trójkątnej, wszystkie wartości po przekątnej są niezerowe. A wszystkie wartości pod lub nad tą przekątną są równe zeru. "
   ]
  },
  {
   "cell_type": "code",
   "execution_count": 20,
   "id": "51c98325-cbd5-44c6-86b3-7c2881292705",
   "metadata": {},
   "outputs": [
    {
     "data": {
      "text/latex": [
       "$\\displaystyle \\left[\\begin{matrix}4 & 1 & 3\\\\0 & 2 & 4\\\\0 & 0 & 5\\end{matrix}\\right]$"
      ],
      "text/plain": [
       "Matrix([\n",
       "[4, 1, 3],\n",
       "[0, 2, 4],\n",
       "[0, 0, 5]])"
      ]
     },
     "execution_count": 20,
     "metadata": {},
     "output_type": "execute_result"
    }
   ],
   "source": [
    "triangle = Matrix([\n",
    "    [4,1,3],\n",
    "    [0,2,4],\n",
    "    [0,0,5]])\n",
    "triangle"
   ]
  },
  {
   "cell_type": "markdown",
   "id": "0c13cfec-a8ec-49ce-bd7e-0450d7bd7ea2",
   "metadata": {},
   "source": [
    "### Macierz rzadka\n",
    "Macierze rzadkie (rzadko spotykane) mają niewiele elementów niezerowych. Mogą być wykorzystywane do zwiększenia efektywności - poprzez śledzenie jedynie elemnentów niezerowych."
   ]
  },
  {
   "cell_type": "code",
   "execution_count": 22,
   "id": "98d7b1eb-c48c-4bdd-9c29-60b416bcffe9",
   "metadata": {},
   "outputs": [
    {
     "data": {
      "text/latex": [
       "$\\displaystyle \\left[\\begin{matrix}0 & 0 & 0\\\\0 & 2 & 0\\\\0 & 0 & 0\\end{matrix}\\right]$"
      ],
      "text/plain": [
       "Matrix([\n",
       "[0, 0, 0],\n",
       "[0, 2, 0],\n",
       "[0, 0, 0]])"
      ]
     },
     "execution_count": 22,
     "metadata": {},
     "output_type": "execute_result"
    }
   ],
   "source": [
    "rare = Matrix([\n",
    "    [0,0,0],\n",
    "    [0,2,0],\n",
    "    [0,0,0]])\n",
    "rare"
   ]
  }
 ],
 "metadata": {
  "kernelspec": {
   "display_name": "Python 3 (ipykernel)",
   "language": "python",
   "name": "python3"
  },
  "language_info": {
   "codemirror_mode": {
    "name": "ipython",
    "version": 3
   },
   "file_extension": ".py",
   "mimetype": "text/x-python",
   "name": "python",
   "nbconvert_exporter": "python",
   "pygments_lexer": "ipython3",
   "version": "3.9.7"
  }
 },
 "nbformat": 4,
 "nbformat_minor": 5
}
