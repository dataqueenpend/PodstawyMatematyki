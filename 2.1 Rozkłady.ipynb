{
 "cells": [
  {
   "cell_type": "markdown",
   "id": "8925dc34-a98b-40a7-9595-88346cc5c298",
   "metadata": {},
   "source": [
    "## Rozkłady prawdopodobieństwa"
   ]
  },
  {
   "cell_type": "markdown",
   "id": "c8dea49f-ab96-42ab-9469-726bfed877d3",
   "metadata": {},
   "source": [
    "### Rozkład dwumianowy (bianomial distribution/ Bernoulli distribution)\n"
   ]
  },
  {
   "cell_type": "code",
   "execution_count": 1,
   "id": "243c1295-ccdb-4207-85a9-42f0860c8b5f",
   "metadata": {},
   "outputs": [],
   "source": [
    "from scipy.stats import binom"
   ]
  },
  {
   "cell_type": "code",
   "execution_count": 2,
   "id": "0b1665c9-b621-4235-be7e-0996a4203d42",
   "metadata": {},
   "outputs": [
    {
     "name": "stdout",
     "output_type": "stream",
     "text": [
      "0 - 9.999999999999978e-11\n",
      "1 - 8.999999999999978e-09\n",
      "2 - 3.6449999999999943e-07\n",
      "3 - 8.747999999999991e-06\n",
      "4 - 0.00013778099999999974\n",
      "5 - 0.0014880347999999982\n",
      "6 - 0.011160260999999996\n",
      "7 - 0.05739562799999997\n",
      "8 - 0.1937102444999998\n",
      "9 - 0.38742048899999976\n",
      "10 - 0.3486784401000001\n"
     ]
    }
   ],
   "source": [
    "n = 10 #Liczba prób\n",
    "p = 0.9 #Prawdopodobienstwo sukcesu\n",
    "\n",
    "for k in range(n + 1): #K sukcesów w zakresie liczby próby plus 1\n",
    "    prawdopobienstwo = binom.pmf(k, n, p)\n",
    "    print(f'{k} - {prawdopobienstwo}') "
   ]
  },
  {
   "cell_type": "markdown",
   "id": "6a1d7fbc-a68f-4fd8-a418-6f28cc73ecf2",
   "metadata": {},
   "source": [
    "Najbrdziej prawdopodbna liczba sukcesów - 9. "
   ]
  },
  {
   "cell_type": "markdown",
   "id": "c9ce84d7-9d10-4688-aed6-e0e7aae6caf0",
   "metadata": {},
   "source": [
    "### Rozkład dwumianowy bez użycia scipy"
   ]
  },
  {
   "cell_type": "code",
   "execution_count": 4,
   "id": "63435873-6d60-4983-860d-f1340bb8605c",
   "metadata": {},
   "outputs": [],
   "source": [
    "# Definijuemy silnię (faktorial)\n",
    "# Silnia to iloczyn kolejnych malejących liczb całkowitych aż do 1\n",
    "# Np. 5! = 5*4*3*2*1\n",
    "\n",
    "def silnia(n: int):\n",
    "    f = 1\n",
    "    for i in range(n):\n",
    "        f*= (i+1)\n",
    "    return f"
   ]
  },
  {
   "cell_type": "code",
   "execution_count": 9,
   "id": "617c0204-0e9c-4c81-b3f6-55f608d8479b",
   "metadata": {},
   "outputs": [],
   "source": [
    "# Definiujemy współczynnik potrzebny do rozkładu dwumianowego\n",
    "# Określa liczbę wszystkich k-elementowych kombinacji bez powtorzen ze\n",
    "# zbioru n-elemntowego\n",
    "# Np. zbior = {1,2,3}, wybieramy 2 elementy (k), z 3 elementowego zbioru (n)\n",
    "# mozliwe kombinacje bez powtorzen to (1,3), (1,2), (2,3). Kominacje są trzy\n",
    "# a zatem wspołczynik dwumianowy równa się 3\n",
    "def wspolczynnik_dwumianowy(n:int, k:int):\n",
    "    return silnia(n) / (silnia(n) * silnia(n - k))"
   ]
  },
  {
   "cell_type": "code",
   "execution_count": 16,
   "id": "72528fd7-fdca-4ca5-af22-5c141de1fc6c",
   "metadata": {},
   "outputs": [
    {
     "data": {
      "text/plain": [
       "2.48015873015873e-05"
      ]
     },
     "execution_count": 16,
     "metadata": {},
     "output_type": "execute_result"
    }
   ],
   "source": [
    "wspolczynnik_dwumianowy(n=10, k=2)"
   ]
  },
  {
   "cell_type": "code",
   "execution_count": 6,
   "id": "a4aa307f-821c-498b-af80-f72eacd294f3",
   "metadata": {},
   "outputs": [],
   "source": [
    "# Definiujemy rozkład dwumianiowy - prawdopodobieństwo k(sukcesu) zdarzeń\n",
    "# w n próbach przy prawdopodbieństiwe p zajścia zdarzenia k\n",
    "def rozklad_dwumianowy(k: int, n:int, p:float):\n",
    "    return wspolczynnik_dwumianowy(n, k) * (p ** k) * (1.0 - p) ** (n - k)"
   ]
  },
  {
   "cell_type": "code",
   "execution_count": 8,
   "id": "2256c32a-4bea-4000-9dd1-a769c518fedc",
   "metadata": {},
   "outputs": [
    {
     "name": "stdout",
     "output_type": "stream",
     "text": [
      "0 - 2.755731922398583e-17\n",
      "1 - 2.4801587301587258e-15\n",
      "2 - 2.008928571428568e-13\n",
      "3 - 1.4464285714285693e-11\n",
      "4 - 9.112499999999989e-10\n",
      "5 - 4.920749999999995e-08\n",
      "6 - 2.214337499999998e-06\n",
      "7 - 7.971614999999996e-05\n",
      "8 - 0.0021523360499999993\n",
      "9 - 0.0387420489\n",
      "10 - 0.3486784401000001\n"
     ]
    }
   ],
   "source": [
    "n = 10\n",
    "p = .9\n",
    "for k in range (n + 1):\n",
    "    prawdopobienstwo = rozklad_dwumianowy(k, n, p)\n",
    "    print(f'{k} - {prawdopobienstwo}')"
   ]
  },
  {
   "cell_type": "markdown",
   "id": "aea0afd9-7567-4f62-a789-3039f6e57ef9",
   "metadata": {},
   "source": [
    "### Rozkład beta"
   ]
  },
  {
   "cell_type": "code",
   "execution_count": null,
   "id": "e47e5c1e-d45e-4d7e-a600-e4a150ce0e2b",
   "metadata": {},
   "outputs": [],
   "source": []
  }
 ],
 "metadata": {
  "kernelspec": {
   "display_name": "Python 3 (ipykernel)",
   "language": "python",
   "name": "python3"
  },
  "language_info": {
   "codemirror_mode": {
    "name": "ipython",
    "version": 3
   },
   "file_extension": ".py",
   "mimetype": "text/x-python",
   "name": "python",
   "nbconvert_exporter": "python",
   "pygments_lexer": "ipython3",
   "version": "3.9.7"
  }
 },
 "nbformat": 4,
 "nbformat_minor": 5
}
