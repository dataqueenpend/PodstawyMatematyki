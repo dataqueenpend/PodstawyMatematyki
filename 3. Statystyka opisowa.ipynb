{
 "cells": [
  {
   "cell_type": "markdown",
   "id": "f42a6245-c13c-48f0-bc9f-75e55630ce9b",
   "metadata": {},
   "source": [
    "# Statystyka opisowa\n",
    "## Średnia i średnia ważona\n",
    "\n",
    "Średnią jest przeciętna wartość zbioru wartości. Obliczamy przez zsumowanie wartości w zbiorze i podzielenie sumy przez liczbę wartości. \n",
    "\n",
    "$\\mu$ - mi\n",
    "\n",
    "Wzór na średnią populacji:\n",
    "$\\mu = \\frac{\\sum_{i=1}^{N} x_i}{N}$\n",
    "\n",
    "Wzór na średnią próby:\n",
    "$\\bar{x} = \\frac{\\sum_{i=1}^{n} x_i}{n}$\n",
    "\n",
    "*Średnią oblicza się w takim sam sposób dla populacji i dla próby.*\n",
    "\n"
   ]
  },
  {
   "cell_type": "code",
   "execution_count": 3,
   "id": "8d02eb6d-a08b-4b32-ae1e-06621f28cec3",
   "metadata": {},
   "outputs": [
    {
     "name": "stdout",
     "output_type": "stream",
     "text": [
      "Srednia proby wynosi: 2.875\n"
     ]
    }
   ],
   "source": [
    "proba = [1,3,2,5,7,0,2,3]\n",
    "srednia = sum(proba) / len(proba)\n",
    "print(f'Srednia proby wynosi: {srednia}')"
   ]
  },
  {
   "cell_type": "markdown",
   "id": "fcc9986a-3064-4bcf-9939-3047aa9e3ee0",
   "metadata": {},
   "source": [
    "Wzór na średnią ważoną: \n",
    "$\\bar{x} = \\frac{\\sum_{i=1}^{n} w_i x_i}{\\sum_{i=1}^{n} w_i}$"
   ]
  },
  {
   "cell_type": "code",
   "execution_count": 2,
   "id": "ea2264e3-4c90-4c1c-add6-f28c1fe8e0d2",
   "metadata": {},
   "outputs": [
    {
     "name": "stdout",
     "output_type": "stream",
     "text": [
      "Srednia wazona proby wynosi: 2.875\n"
     ]
    }
   ],
   "source": [
    "wagi = [.2, .2, .2, .4]\n",
    "srednia_wazona = sum(s * w for s,w in zip(proba, wagi)) / sum(wagi)\n",
    "print(f'Srednia wazona proby wynosi: {srednia}')"
   ]
  },
  {
   "cell_type": "markdown",
   "id": "37f4818d-80e7-40f3-8162-c11832baf2c1",
   "metadata": {},
   "source": [
    "## Mediana\n",
    "Średnia wartość w zbiorze uporządkowanych wartości. W przypadku, gdy w zbiorze znajduje się parzysta liczba wyliczamy średnią z wartości najbliższych środka sekwencji.\n",
    "\n",
    "Wzór na medianę: $\\text{median} = \\begin{cases}\n",
    "x_{\\frac{n+1}{2}} & \\text{if $n$ is odd} \\\\\n",
    "\\frac{x_{\\frac{n}{2}} + x_{\\frac{n}{2} + 1}}{2} & \\text{if $n$ is even}\n",
    "\\end{cases}$"
   ]
  },
  {
   "cell_type": "code",
   "execution_count": 4,
   "id": "45b194e4-790a-4568-bfeb-23955c5758fa",
   "metadata": {},
   "outputs": [],
   "source": [
    "def mediana(proba):\n",
    "    sort = sorted(proba)\n",
    "    print(sort)\n",
    "    n = len(sort)\n",
    "    mid = int(n/2) - 1 if n%2 == 0 else int(n/2)\n",
    "    if n % 2 == 0:\n",
    "        return (sort[mid] + sort[mid + 1])/ 2\n",
    "    else:\n",
    "        return sort[mid]"
   ]
  },
  {
   "cell_type": "code",
   "execution_count": 5,
   "id": "d4ac748c-34a1-4a0f-b960-f95397cebd18",
   "metadata": {},
   "outputs": [
    {
     "name": "stdout",
     "output_type": "stream",
     "text": [
      "[0, 1, 2, 2, 3, 3, 5, 7]\n"
     ]
    },
    {
     "data": {
      "text/plain": [
       "2.5"
      ]
     },
     "execution_count": 5,
     "metadata": {},
     "output_type": "execute_result"
    }
   ],
   "source": [
    "mediana(proba)"
   ]
  },
  {
   "cell_type": "markdown",
   "id": "fb1fe1ff-be2c-4f68-a1a0-bbb0d08997f7",
   "metadata": {},
   "source": [
    "**Kiedy przydaje się mediana?**\n",
    "\n",
    "Szczególnie w przypadku danych, które mogą zawierać elementy odstające (outliers). Ma to miejsce szczególnie w przypadku pomiaru wynagrodzeń. Patrz: UNC i Michael Jordan\n",
    "\n",
    "Kiedy mediana znacząco odbiega od średniej mamy do czynienia ze zbiorem danych, który zawiera elementy odstające. \n",
    "\n",
    "**Mediana jest kwantylem**\n",
    "\n",
    "W statystyce mamy do czynienia równiez z kwantylami. Przecinają one zbiór danych w różnych miejscach. Dla przykładu mediana to kwantyl rzędu 50% - przecina zbiór danych po środku. \n",
    "\n",
    "Innego rodzaju kwantylami są kwartyle, dzielące zbiór danych w przedziałach 25%. "
   ]
  },
  {
   "cell_type": "markdown",
   "id": "0eb768ed-56ca-4ac6-8962-8fe0e73d65d7",
   "metadata": {},
   "source": [
    "## Dominanta\n",
    "\n",
    "Wartości, które najczęsciej występują w próbie. Używamy,  gdy chcemy sprawdzić, która wartość najczęściej występuje.\n",
    "\n",
    "W przypadku, gdy nie obserwujemy wartości, gdy występuje więcej niż jeden raz, nie mamy dominanty. Gdy więcej niż jedna wartość występują z tą samą częstotliwością mamy do czynienia ze zbiorem bimodalnym.\n",
    "\n",
    "Wzór na dominantę: $ \\text{mode} = \\underset{x}{\\operatorname{argmax}} \\left( \\sum_{i=1}^{n} \\delta(x, x_i) \\right) $"
   ]
  },
  {
   "cell_type": "markdown",
   "id": "b32939d8-9c62-4dd3-9c70-15c27637dbc5",
   "metadata": {},
   "source": [
    "*Objaśnienie funkcji*\n",
    "\n",
    "**Argmax** - wybieramy maksymalną wartość z inputu x.\n",
    "\n",
    "**Delta** $\\delta(x, x_i)$ - tutaj delta Dirca, pozwala na obliczenie ilości wystąpień poszukiwanej wartości (liczby) w zbiorze. \n",
    "> Jeśli wartość w zbiorze jest równa wartości (liczbie), której poszukujemy, to funkcja oznacza ją jako 1.\n",
    "\n",
    "> Gdy wartość w zbiorze nie jest równa wartości, której poszukujemy, to funkcja oznacza ją jako 0.\n",
    "\n",
    "**Suma** $\\sum_{i=1}^{n}$Następnie sumujemy zwrócone oznaczenia. Dla liczby (wartości), dla której suma zwróconych oznaczeń jest największa, jest oznaczona jako liczba dominująca."
   ]
  },
  {
   "cell_type": "code",
   "execution_count": 5,
   "id": "ac463bef-d788-476c-a20b-985f08270ba4",
   "metadata": {},
   "outputs": [],
   "source": [
    "from collections import defaultdict\n",
    "#uzycie defaultdict, aby uniknac bledow\n",
    "    #korzystanie z defaultdict a tradycyjnego dict w python\n",
    "    #tradycyjny slownik w python zawiera pary klucz-wartosc\n",
    "    #w przypadku proby dodania wartosci do klucza, ktory nie istnieje wyrzucany jest blad\n",
    "    #jesli uzywamy defaultdict, to w przypadku proby dodania wartoscia do klucza, ktory nie istnieje\n",
    "    #zostanie autoamtycznie utworzona wartosc domyslna dla tego klucza\n",
    "\n",
    "def dominanta(proba):\n",
    "    wystapienia = defaultdict(lambda: 0)\n",
    "    #lambda: 0 to funkcja anonimowa, ktora jest wywolywana w przypadku\n",
    "    #gdy chcemy przypisac wartość do klucza, ktory nie istnieje - funkcja\n",
    "    #przypisuje domyslny klucz 0, funkcja umozliwia rowniez zwiekszanie wartosci\n",
    "    #domyslnej poprzez +=1, gdy klucz juz istnieje\n",
    "    for s in proba: #iterujemy po wartosciach w zmiennej proba\n",
    "        wystapienia[s] += 1 #zwiekszamy wartosc klucza w slowniku o 1\n",
    "    najwiecej_wystapien = max(wystapienia.values()) #pobieramy maksymalna liczbe wystapien\n",
    "    dominanty = [v for v in set(proba) if wystapienia[v] == najwiecej_wystapien]\n",
    "    return dominanty"
   ]
  },
  {
   "cell_type": "code",
   "execution_count": 6,
   "id": "9b375dd0-f54c-4113-b95b-deac67b89f9e",
   "metadata": {},
   "outputs": [
    {
     "data": {
      "text/plain": [
       "[2, 3]"
      ]
     },
     "execution_count": 6,
     "metadata": {},
     "output_type": "execute_result"
    }
   ],
   "source": [
    "dominanta(proba)"
   ]
  },
  {
   "cell_type": "markdown",
   "id": "59d64e95-7735-4e2e-8b72-28ea7723411c",
   "metadata": {},
   "source": [
    "## Wariancja i odchylenie standardowe\n",
    "**Uwaga na różnice w obliczeniach pomiędzy próbą a populacją!**\n",
    "\n",
    "*Jak bardzo rozrzucone są dane?*\n",
    "czyli mierzenie różnicy pomiędzy średnią a punktem danych\n",
    "\n",
    "Mierzenie rozrzutu danych może być przydatne w analityce. Aby ułatwić sobie pracę warto jednak skonsolidować owe różnice do jednej liczby. Tym jest właśnie wariancja. \n",
    "\n",
    "Od każdego punktu danych odejmujemy średnią populacji. Aby nie tracić cennych informacji związanych z wielkością różnic pomiędzy punktami a średnią, podnosimy różnicę do kwadratu. \n",
    "\n",
    "\n",
    "$(x_i - \\text{srednia})^2$\n",
    "\n",
    "Powyższe obliczenie wykonujemy dla każdego punktu danych w populacji. A uzyskane wartości sumujemy do siebie. Aby uśrednić kwadraty różnic dzielimy je przez liczbę punktów danych (obserwacji) w populacji. \n",
    "\n",
    "$$\n",
    "\\begin{equation}\n",
    "\\sigma^2 = \\frac{1}{N} \\sum_{i=1}^{N} (x_i - \\mu)^2\n",
    "\\end{equation}\n",
    "$$\n",
    "\n",
    "$\\sigma^2$ - symbol wariancji (sigma kwadrat)\n",
    "\n",
    "$N$ - liczba elementów w populacji (liczba obserwacji)\n",
    "\n",
    "$x_i$ - obserwacja w populacji (elementu w populacji/punkt danych)\n",
    "\n",
    "$\\mu$ - średnia populacji (mu)\n"
   ]
  },
  {
   "cell_type": "code",
   "execution_count": 1,
   "id": "cc104397-0632-4c43-96d4-57616bdad576",
   "metadata": {},
   "outputs": [],
   "source": [
    "dane = [0,1,5,7,9,10,14]\n",
    "\n",
    "def wariancja(dane):\n",
    "    srednia = sum(dane)/len(dane)\n",
    "    _wariancja = sum((v-srednia) ** 2 for v in dane) / len(dane)\n",
    "    return _wariancja"
   ]
  },
  {
   "cell_type": "code",
   "execution_count": 3,
   "id": "c8f1fa25-1fa6-42a7-a91e-989c14847a6d",
   "metadata": {},
   "outputs": [
    {
     "data": {
      "text/plain": [
       "21.387755102040813"
      ]
     },
     "execution_count": 3,
     "metadata": {},
     "output_type": "execute_result"
    }
   ],
   "source": [
    "wariancja(dane)"
   ]
  },
  {
   "cell_type": "markdown",
   "id": "bdcdb4cc-9e87-4144-a466-5bb2017b1f3e",
   "metadata": {},
   "source": [
    "*Co właściwie oznacza wartość wariancji?*\n",
    "\n",
    "Wartość wariancji jest większa, niż którakolwiek liczba punktu danych. Jednak na potrzeby obliczania wariancji różnice pomiędzy punktem danych a średnią były podnoszone do kwadratu. Aby otrzymać informację o rozrzucie danych, możemy powstałą wartość wariancji wypierwiastkować - tym samym wrócimy do wejściowej skali. \n",
    "\n",
    "## Odchylenie standardowe\n",
    "\n",
    "Wyciągając pierwiastek kwadratowy z wartości wariancji otrzymujemy nową miarę. Jest nią odchylenie standardowe. Czyli wariancja, która jest przeskalowana z pomocą pierwiastka kwadratowego do wartości wejściowych. \n",
    "\n",
    "$$\\sigma = \\sqrt{\\frac{\\sum_{i=1}^{n}(x_i - \\mu)^2}{n}}\n",
    "$$\n",
    "\n",
    "$\\sigma$ - sigma, symbol odchylenia standardowego (zauważ, że nie ma tu już znaczka podniesienia do kwadratu :))\n",
    "\n",
    "$\\sqrt{}$ - pierwiastek kwadratowy - czyli to co różni wariancję od odchylenia standardowego, zauważ, że pierwiastkujemy całość obliczeń, które składają się na wariancję.\n",
    "\n",
    "Aby zaimplementować odchylenie standardowe w pythonie, wykorzystamy już napisaną wcześniej funkcję warniacji (zagnieżdżenie funkcji)."
   ]
  },
  {
   "cell_type": "code",
   "execution_count": 4,
   "id": "8c91ba5e-3210-4477-b4c6-fa12a2b94331",
   "metadata": {},
   "outputs": [],
   "source": [
    "from math import sqrt\n",
    "\n",
    "def odchylenie_std(dane):\n",
    "    return sqrt(wariancja(dane))"
   ]
  },
  {
   "cell_type": "code",
   "execution_count": null,
   "id": "e9e8a5a4-d67d-4766-8e0d-af496b2d2d50",
   "metadata": {},
   "outputs": [
    {
     "data": {
      "text/plain": [
       "4.624689730353898"
      ]
     },
     "execution_count": 5,
     "metadata": {},
     "output_type": "execute_result"
    }
   ],
   "source": [
    "odchylenie_std(dane)"
   ]
  },
  {
   "cell_type": "markdown",
   "id": "9327a532-ec3c-43c5-9c7b-101b26b2ccfa",
   "metadata": {},
   "source": [
    "### Wariancja i odchylenie standardowe w próbie\n",
    "\n",
    "W przypadku liczenia wariancji i odchylenia standardowego w próbie, mamy do czynienia z nieco innym wzorem, niż w przypadku liczenia tych metryk na populacji. \n",
    "\n",
    "Mianowicie od liczby obserwacji w próbie - podczas liczenia wariancji i odchylenie standardowego - odejmujemy 1. \n",
    "\n",
    "\n",
    "$$s^2 = \\frac{\\sum_{i=1}^{n}(x_i - \\bar{x})^2}{n-1}\n",
    "$$\n",
    "\n",
    "$$s = \\sqrt{\\frac{\\sum_{i=1}^{n}(x_i - \\bar{x})^2}{n-1}}\n",
    "$$\n",
    "\n",
    "powyżej $s^2$ - wzór na wariancję w próbie, pamiętaj o innym znaku dla średniej w próbie ($\\bar{x}$)\n",
    "\n",
    "i $s$ - wzór na odchylenie standardowe  w próbie\n",
    "\n",
    "*Dlaczego odejmujemy jeden od pełnej liczby elementów we wzorze na próbę?*\n",
    "\n",
    "Jest to zabezpiecznie na wypadek 'niedocenienia' wariancji. Gdy odejmujemy jeden od liczby elemenetów we wzorze zwiększamy wariancję.\n",
    "\n",
    "patrz po więcej - Josh Stramer"
   ]
  },
  {
   "cell_type": "code",
   "execution_count": 2,
   "id": "836b3d88-b662-42bf-bfdf-b294fc99df28",
   "metadata": {},
   "outputs": [],
   "source": [
    "from math import sqrt\n",
    "import numpy as np\n",
    "\n",
    "def wariancja(dane, czy_probka: bool = False): \n",
    "    srednia = np.mean(dane)\n",
    "    _wariancja = sum((v - srednia) ** 2 for v in dane)/ (len(dane) - (1 if czy_probka else 0))\n",
    "    return _wariancja"
   ]
  },
  {
   "cell_type": "code",
   "execution_count": 3,
   "id": "5675452e-a523-4bd9-a7f0-40ce50d11813",
   "metadata": {},
   "outputs": [
    {
     "data": {
      "text/plain": [
       "24.95238095238095"
      ]
     },
     "execution_count": 3,
     "metadata": {},
     "output_type": "execute_result"
    }
   ],
   "source": [
    "wariancja(dane, czy_probka=True)"
   ]
  },
  {
   "cell_type": "code",
   "execution_count": 6,
   "id": "6d92d593-ac89-4831-8a37-217cbee6291b",
   "metadata": {},
   "outputs": [],
   "source": [
    "def odchylenie_std(dane, czy_probka: bool=False):\n",
    "    return sqrt(wariancja(dane, czy_probka))"
   ]
  },
  {
   "cell_type": "code",
   "execution_count": 7,
   "id": "85228e56-e8e9-4723-a94d-d95ac5a8a6c2",
   "metadata": {},
   "outputs": [
    {
     "data": {
      "text/plain": [
       "4.99523582550223"
      ]
     },
     "execution_count": 7,
     "metadata": {},
     "output_type": "execute_result"
    }
   ],
   "source": [
    "odchylenie_std(dane, czy_probka=True)"
   ]
  },
  {
   "cell_type": "markdown",
   "id": "9ef6f6b4-60b3-4a66-b2e2-182a44930c60",
   "metadata": {},
   "source": [
    "Zwiększenie wariancji i odchylenia standardowego w próbie oznacza, że mamy mniejszą pewność do danych i tym samym zwiększamy zakres wartości."
   ]
  }
 ],
 "metadata": {
  "kernelspec": {
   "display_name": "Python 3 (ipykernel)",
   "language": "python",
   "name": "python3"
  },
  "language_info": {
   "codemirror_mode": {
    "name": "ipython",
    "version": 3
   },
   "file_extension": ".py",
   "mimetype": "text/x-python",
   "name": "python",
   "nbconvert_exporter": "python",
   "pygments_lexer": "ipython3",
   "version": "3.9.7"
  }
 },
 "nbformat": 4,
 "nbformat_minor": 5
}
