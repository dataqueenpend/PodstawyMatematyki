{
 "cells": [
  {
   "cell_type": "markdown",
   "id": "8bef029b-692d-4f2c-944c-f2cdf39545b5",
   "metadata": {},
   "source": [
    "# Prawdopodobieństwo"
   ]
  },
  {
   "cell_type": "markdown",
   "id": "dde0bd35-773b-441a-acb3-e6cac6c1e1b3",
   "metadata": {},
   "source": [
    "## Prawdopodobieństwo\n",
    "\n",
    "Prawdopodobienstwo wyrzucenie 6 w rzucie niezbiasowana kostką."
   ]
  },
  {
   "cell_type": "code",
   "execution_count": 1,
   "id": "f1613d85-e36d-49d0-bdba-e99695d5c065",
   "metadata": {},
   "outputs": [],
   "source": [
    "from sympy import *"
   ]
  },
  {
   "cell_type": "code",
   "execution_count": 7,
   "id": "0784dc1d-37fb-4dc7-b058-6e4303299f89",
   "metadata": {},
   "outputs": [
    {
     "data": {
      "text/plain": [
       "0.16666666666666666"
      ]
     },
     "execution_count": 7,
     "metadata": {},
     "output_type": "execute_result"
    }
   ],
   "source": [
    "p = 1/6\n",
    "p"
   ]
  },
  {
   "cell_type": "markdown",
   "id": "2f917b39-3b89-4355-a2e6-7cab3200b789",
   "metadata": {},
   "source": [
    "## Szansa\n",
    "Szansa wyrzucenia 6 w rzucie niezbiasowaną kostką.\n",
    "\n",
    "1/6 : 5/6 = 1/6 * 6/5 = 6/30 = 1/5"
   ]
  },
  {
   "cell_type": "code",
   "execution_count": 3,
   "id": "c4830352-1108-4780-8868-bf6180244d84",
   "metadata": {},
   "outputs": [
    {
     "data": {
      "text/plain": [
       "0.1904761904761905"
      ]
     },
     "execution_count": 3,
     "metadata": {},
     "output_type": "execute_result"
    }
   ],
   "source": [
    "# prawdopodobienstwo w szanse\n",
    "p_x = .16\n",
    "p_x/(1-p_x)"
   ]
  },
  {
   "cell_type": "markdown",
   "id": "09561494-d177-4d08-862f-cf3450c5f659",
   "metadata": {},
   "source": [
    "## Prawdopodobieństwo łączne\n",
    "Czyli jakie jest prawdopodbienstwa wystapienia wyrzucenie 6 w rzucie kostką i reszki w rzucie monetą.\n",
    "\n",
    "p(A AND B) = P(A) * P(B)"
   ]
  },
  {
   "cell_type": "code",
   "execution_count": 10,
   "id": "300b84c1-df79-438c-88d0-341bc3de5d68",
   "metadata": {},
   "outputs": [
    {
     "data": {
      "text/plain": [
       "0.08"
      ]
     },
     "execution_count": 10,
     "metadata": {},
     "output_type": "execute_result"
    }
   ],
   "source": [
    "p_a = .16\n",
    "p_b = .5\n",
    "p_a*p_b"
   ]
  },
  {
   "cell_type": "markdown",
   "id": "9a555e2c-d8a6-4e5a-a36d-4f95cdabbf39",
   "metadata": {},
   "source": [
    "## Prawdopobieństwo alternatywne wykluczające się\n",
    "\n",
    "Czyli prawdopodbieństwo wystąpienia 4 lub 6 w rzucie kostką.\n",
    "P(A OR B) = P(A) + P(B)\n",
    "\n",
    "1/6 + 1/6 = 2/6 = 1/3"
   ]
  },
  {
   "cell_type": "code",
   "execution_count": 11,
   "id": "f18c1ee2-5830-48b9-8f7b-3507f4bf338d",
   "metadata": {},
   "outputs": [
    {
     "data": {
      "text/plain": [
       "0.32"
      ]
     },
     "execution_count": 11,
     "metadata": {},
     "output_type": "execute_result"
    }
   ],
   "source": [
    "p_a = .16\n",
    "p_b = .16\n",
    "p_a+p_b"
   ]
  },
  {
   "cell_type": "markdown",
   "id": "bc27b5f9-6c72-4828-b72f-002f48197e56",
   "metadata": {},
   "source": [
    "## Prawdopobieństwo alternatywne niewykluczające się\n",
    "\n",
    "Czyli prawdopodbieństwo wyrzucenie 4 w rzucie kostką i prawdopodbieństwo wyrzucenia reszki w rzucie monetą. \n",
    "\n",
    "!W TYM PRZYPADKU KONIECZNE JEST ODJĘCIE OD SUMY PRAWOPODBIEŃSTW ICH ILOCZNYNU - co umożliwi ominięcie błędu wynikającego z dwukrotnego sumowania prawopobieństw\n",
    "\n",
    "P(A OR B) = P(A) + P(B) - (P(A) * P(B))\n",
    "\n",
    "1/6 + 1/2 - 1/6 * 1/2 = 2/12 + 6/12 - 1/12 = 7/12"
   ]
  },
  {
   "cell_type": "code",
   "execution_count": 12,
   "id": "104633e2-1d69-47fd-9dd1-4330347bd0d3",
   "metadata": {},
   "outputs": [
    {
     "data": {
      "text/plain": [
       "0.5800000000000001"
      ]
     },
     "execution_count": 12,
     "metadata": {},
     "output_type": "execute_result"
    }
   ],
   "source": [
    "p_a = .16\n",
    "p_b = .5\n",
    "(p_a + p_b) - (p_a  * p_b)"
   ]
  },
  {
   "cell_type": "markdown",
   "id": "1ad4bb31-82e1-444f-baea-86bdab6d801c",
   "metadata": {},
   "source": [
    "## Prawdopodobieństwo warunkowe - twierdzenie bayesa\n",
    "\n",
    "Czyli prawopodbieństwo wyrzucenia 6, jeśli wyrzucliśmy reszkę. \n",
    "Na potrzeby tego ćwiczenia przyjmijmy, że prawdopobieństwo RESZKI, jeśli wyrzuciliśmy 6 wynosi .2.\n",
    "\n",
    "P(A|B) = P(B|A) * P(A) / p(b)"
   ]
  },
  {
   "cell_type": "code",
   "execution_count": 13,
   "id": "71b65751-27a4-460f-948f-c4db29d771d0",
   "metadata": {},
   "outputs": [
    {
     "data": {
      "text/plain": [
       "0.625"
      ]
     },
     "execution_count": 13,
     "metadata": {},
     "output_type": "execute_result"
    }
   ],
   "source": [
    "p_a = .16 # rzut 6\n",
    "p_b = .5 #  rzut reszka\n",
    "p_ba = .2 \n",
    "(p_ba * p_b)/ p_a # prawdopobienstwo 6 jesli reszka"
   ]
  },
  {
   "cell_type": "code",
   "execution_count": 15,
   "id": "deb76994-0481-40e1-a71e-6bb2ede69a6f",
   "metadata": {},
   "outputs": [
    {
     "data": {
      "text/plain": [
       "0.2"
      ]
     },
     "execution_count": 15,
     "metadata": {},
     "output_type": "execute_result"
    }
   ],
   "source": [
    "(.625 * p_a) / p_b # prawdopobienstwo reszki jeśli 6"
   ]
  },
  {
   "cell_type": "code",
   "execution_count": null,
   "id": "ce1d3796-72df-4b16-9ecf-f80bd6d3befe",
   "metadata": {},
   "outputs": [],
   "source": []
  }
 ],
 "metadata": {
  "kernelspec": {
   "display_name": "Python 3 (ipykernel)",
   "language": "python",
   "name": "python3"
  },
  "language_info": {
   "codemirror_mode": {
    "name": "ipython",
    "version": 3
   },
   "file_extension": ".py",
   "mimetype": "text/x-python",
   "name": "python",
   "nbconvert_exporter": "python",
   "pygments_lexer": "ipython3",
   "version": "3.9.7"
  }
 },
 "nbformat": 4,
 "nbformat_minor": 5
}
