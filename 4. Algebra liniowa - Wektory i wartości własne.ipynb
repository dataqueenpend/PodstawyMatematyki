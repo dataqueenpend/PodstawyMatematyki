{
 "cells": [
  {
   "cell_type": "markdown",
   "id": "17e1be8d-de5c-4fce-aed7-46331a29912d",
   "metadata": {},
   "source": [
    "# Algebra liniowa\n",
    "## Wektory i wartości własne"
   ]
  },
  {
   "cell_type": "markdown",
   "id": "3dc91b48-ae9a-4f37-8000-51a6fd05a474",
   "metadata": {},
   "source": [
    "**Rozkład macierzy**\n",
    "\n",
    "Rozkład macierzy to przywrócenie jej do czynników pierwszych. Tak, jak robimy to w przypadku indywidualnych liczb. Np. weźmy liczbę 15. Jej czynniki pierwsze to 3 i 5. \n",
    "\n",
    "Rozkłady macierzy są pomocne w poszukiwaniu macierzy odwrotnych, czy obliczania wyznaczników. Z pomocą metodą rozkładu macierzy, zwanej **rozkładem własnym**, możemy dokonać analizy głónych składowych np. w uczeniu maszynowym. \n",
    "\n",
    "Poprzez dzielenie macierzy (kwadratowych) na składniki, możemy łatwiej pracować z nimi z problemach ML. W przypadku rozkładu własnego używamy dwóch składników: \n",
    "* wartość własna $\\lambda$\n",
    "* wektora własnego $v$.\n"
   ]
  },
  {
   "cell_type": "code",
   "execution_count": 5,
   "id": "915a9214-218e-45c6-82ac-019c5326b092",
   "metadata": {},
   "outputs": [],
   "source": [
    "from numpy import array, diag\n",
    "from numpy.linalg import eig, inv"
   ]
  },
  {
   "cell_type": "code",
   "execution_count": 3,
   "id": "a6631983-79ee-4f4f-9ac5-e4301c9c9ec0",
   "metadata": {},
   "outputs": [
    {
     "data": {
      "text/plain": [
       "(array([-0.46410162,  6.46410162]),\n",
       " array([[-0.80689822, -0.34372377],\n",
       "        [ 0.59069049, -0.9390708 ]]))"
      ]
     },
     "execution_count": 3,
     "metadata": {},
     "output_type": "execute_result"
    }
   ],
   "source": [
    "A = np.array([\n",
    "    [1,2],\n",
    "    [4,5]\n",
    "])\n",
    "wartosci_wlasne, wektor_wlasny = eig(A)\n",
    "wartosci_wlasne,wektor_wlasny"
   ]
  },
  {
   "cell_type": "markdown",
   "id": "28b58991-8bd3-4d81-acbc-a72f2bd97a48",
   "metadata": {},
   "source": [
    "Możemy również zbudować macierz pierwotną z wartosci wlasnych i wektora wlasnego, wg następującego wzoru:\n",
    "\n",
    "$Av = \\lambda v$\n",
    "\n",
    "Wyprowadzamy A i przekształcamy równanie:\n",
    "\n",
    "$A = Q* Q_neg1* Q - 1$\n",
    "\n",
    "Gdzie Q to wektory własne, a Q negative 1 to wartosci wlasne w postaci diagonalnej (odwrotna macierz Q). "
   ]
  },
  {
   "cell_type": "code",
   "execution_count": 6,
   "id": "9239113e-e5c6-448c-b94b-e7ce9276b923",
   "metadata": {},
   "outputs": [
    {
     "data": {
      "text/plain": [
       "array([[1., 2.],\n",
       "       [4., 5.]])"
      ]
     },
     "execution_count": 6,
     "metadata": {},
     "output_type": "execute_result"
    }
   ],
   "source": [
    "Q = wektor_wlasny\n",
    "R = inv(Q)\n",
    "L = diag(wartosci_wlasne)\n",
    "B = Q @ L @ R\n",
    "B"
   ]
  },
  {
   "cell_type": "markdown",
   "id": "d5747653-26e1-4571-a4bb-083d598a8773",
   "metadata": {},
   "source": [
    "Więcej na playliscie - Essence of linear Algebra https://www.youtube.com/watch?v=fNk_zzaMoSs&list=PLZHQObOWTQDPD3MizzM2xVFitgF8hE_ab"
   ]
  }
 ],
 "metadata": {
  "kernelspec": {
   "display_name": "Python 3 (ipykernel)",
   "language": "python",
   "name": "python3"
  },
  "language_info": {
   "codemirror_mode": {
    "name": "ipython",
    "version": 3
   },
   "file_extension": ".py",
   "mimetype": "text/x-python",
   "name": "python",
   "nbconvert_exporter": "python",
   "pygments_lexer": "ipython3",
   "version": "3.9.7"
  }
 },
 "nbformat": 4,
 "nbformat_minor": 5
}
