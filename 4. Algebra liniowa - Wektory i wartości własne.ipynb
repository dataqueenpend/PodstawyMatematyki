{
 "cells": [
  {
   "cell_type": "markdown",
   "id": "17e1be8d-de5c-4fce-aed7-46331a29912d",
   "metadata": {},
   "source": [
    "# Algebra liniowa\n",
    "## Wektory i wartości własne"
   ]
  },
  {
   "cell_type": "markdown",
   "id": "3dc91b48-ae9a-4f37-8000-51a6fd05a474",
   "metadata": {},
   "source": [
    "**Rozkład macierzy**\n",
    "\n",
    "Rozkład macierzy to przywrócenie jej do czynników pierwszych. Tak, jak robimy to w przypadku indywidualnych liczb. Np. weźmy liczbę 15. Jej czynniki pierwsze to 3 i 5. \n",
    "\n",
    "Rozkłady macierzy są pomocne w poszukiwaniu macierzy odwrotnych, czy obliczania wyznaczników. Z pomocą metodą rozkładu macierzy, zwanej **rozkładem własnym**, możemy dokonać analizy głónych składowych np. w uczeniu maszynowym. \n",
    "\n",
    "Poprzez dzielenie macierzy (kwadratowych) na składniki, możemy łatwiej pracować z nimi z problemach ML. W przypadku rozkładu własnego używamy dwóch składników: \n",
    "* wartość własna $\\lambda$\n",
    "* wektora własnego $v$.\n"
   ]
  },
  {
   "cell_type": "code",
   "execution_count": 21,
   "id": "915a9214-218e-45c6-82ac-019c5326b092",
   "metadata": {},
   "outputs": [],
   "source": [
    "import numpy as np\n",
    "from numpy import array, diag\n",
    "from numpy.linalg import eig\n",
    "from sympy import *\n",
    "from numpy.linalg import inv\n",
    "import matplotlib.pyplot as plt"
   ]
  },
  {
   "cell_type": "code",
   "execution_count": 2,
   "id": "a6631983-79ee-4f4f-9ac5-e4301c9c9ec0",
   "metadata": {},
   "outputs": [
    {
     "data": {
      "text/plain": [
       "(array([-0.46410162,  6.46410162]),\n",
       " array([[-0.80689822, -0.34372377],\n",
       "        [ 0.59069049, -0.9390708 ]]))"
      ]
     },
     "execution_count": 2,
     "metadata": {},
     "output_type": "execute_result"
    }
   ],
   "source": [
    "A = np.array([\n",
    "    [1,2],\n",
    "    [4,5]\n",
    "])\n",
    "wartosci_wlasne, wektor_wlasny = eig(A)\n",
    "wartosci_wlasne,wektor_wlasny"
   ]
  },
  {
   "cell_type": "markdown",
   "id": "28b58991-8bd3-4d81-acbc-a72f2bd97a48",
   "metadata": {},
   "source": [
    "Możemy również zbudować macierz pierwotną z wartosci wlasnych i wektora wlasnego, wg następującego wzoru:\n",
    "\n",
    "$Av = \\lambda v$\n",
    "\n",
    "Wyprowadzamy A i przekształcamy równanie:\n",
    "\n",
    "$A = Q* Q_neg1* Q - 1$\n",
    "\n",
    "Gdzie Q to wektory własne, a Q negative 1 to wartosci wlasne w postaci diagonalnej (odwrotna macierz Q). "
   ]
  },
  {
   "cell_type": "code",
   "execution_count": 3,
   "id": "9239113e-e5c6-448c-b94b-e7ce9276b923",
   "metadata": {},
   "outputs": [
    {
     "data": {
      "text/plain": [
       "array([[1., 2.],\n",
       "       [4., 5.]])"
      ]
     },
     "execution_count": 3,
     "metadata": {},
     "output_type": "execute_result"
    }
   ],
   "source": [
    "Q = wektor_wlasny\n",
    "R = inv(Q)\n",
    "L = diag(wartosci_wlasne)\n",
    "B = Q @ L @ R\n",
    "B"
   ]
  },
  {
   "cell_type": "markdown",
   "id": "d5747653-26e1-4571-a4bb-083d598a8773",
   "metadata": {},
   "source": [
    "Więcej na playliscie - Essence of linear Algebra https://www.youtube.com/watch?v=fNk_zzaMoSs&list=PLZHQObOWTQDPD3MizzM2xVFitgF8hE_ab"
   ]
  },
  {
   "cell_type": "markdown",
   "id": "af3354fd-ce0c-4bf3-9c13-4c2a92ec9e1f",
   "metadata": {},
   "source": [
    "##  Ćwiczenia\n",
    "\n",
    "Wektor v ma wartosc 1,2, ale następnie przechodzi do przekształcenie. Wektor i przesuwa się do punktu 2,0, a wektor j przesuwa się do punktu 0,1.5. Gdzie przesuwa się wektor v?"
   ]
  },
  {
   "cell_type": "code",
   "execution_count": 4,
   "id": "9679f421-eaf5-4d62-b285-2f1bd0406f1f",
   "metadata": {},
   "outputs": [],
   "source": [
    "v = np.array([1,2])\n",
    "i = np.array([2,0])\n",
    "j = np.array([0, 1.5])"
   ]
  },
  {
   "cell_type": "code",
   "execution_count": 5,
   "id": "79b2623e-b7f0-4c14-beab-86596b3a3815",
   "metadata": {},
   "outputs": [
    {
     "data": {
      "text/plain": [
       "array([[2. , 0. ],\n",
       "       [0. , 1.5]])"
      ]
     },
     "execution_count": 5,
     "metadata": {},
     "output_type": "execute_result"
    }
   ],
   "source": [
    "baza = array([i,j])\n",
    "baza"
   ]
  },
  {
   "cell_type": "code",
   "execution_count": 6,
   "id": "33485b6d-45eb-428b-a491-831f4de6a6bb",
   "metadata": {},
   "outputs": [
    {
     "data": {
      "text/plain": [
       "array([2., 3.])"
      ]
     },
     "execution_count": 6,
     "metadata": {},
     "output_type": "execute_result"
    }
   ],
   "source": [
    "v_new = baza @ v\n",
    "v_new"
   ]
  },
  {
   "cell_type": "markdown",
   "id": "789ba572-3e12-4afc-97ec-60fe30464907",
   "metadata": {},
   "source": [
    "Wektor v ma wartosc 1,2,, ale nastepnie przechodzi do przeksztalcenia. Wektor i przesuwa się do punktu -2,1, a wektor j przesuwa się do punktu 1,-2. Gdzie przesuwa się wektor v?"
   ]
  },
  {
   "cell_type": "code",
   "execution_count": 7,
   "id": "93a59b5c-fbdc-45bd-aab8-6815d5a227cd",
   "metadata": {},
   "outputs": [],
   "source": [
    "v = np.array([1,2])\n",
    "i = np.array([-2,1])\n",
    "j = np.array([1, -2])"
   ]
  },
  {
   "cell_type": "code",
   "execution_count": 8,
   "id": "692f98ce-0a3e-4fcd-ae84-cda30492cec5",
   "metadata": {},
   "outputs": [
    {
     "data": {
      "text/plain": [
       "array([[-2,  1],\n",
       "       [ 1, -2]])"
      ]
     },
     "execution_count": 8,
     "metadata": {},
     "output_type": "execute_result"
    }
   ],
   "source": [
    "baza = array([i,j])\n",
    "baza"
   ]
  },
  {
   "cell_type": "code",
   "execution_count": 9,
   "id": "3437439a-2a18-44be-ab64-10d684ad0c82",
   "metadata": {},
   "outputs": [
    {
     "data": {
      "text/plain": [
       "array([ 0, -3])"
      ]
     },
     "execution_count": 9,
     "metadata": {},
     "output_type": "execute_result"
    }
   ],
   "source": [
    "v_new = baza @ v\n",
    "v_new"
   ]
  },
  {
   "cell_type": "markdown",
   "id": "553df2af-3b0f-429f-b873-f9500c16c4a6",
   "metadata": {},
   "source": [
    "Przeksztalcenie przesuwa wektor i do punktu 1,0, a wektor j do punktu 2,2. Jaki jest wyznacznik tego przekształcenia?"
   ]
  },
  {
   "cell_type": "code",
   "execution_count": 10,
   "id": "5c9ba5ef-b005-4949-a9b6-916b7eb4e3d9",
   "metadata": {},
   "outputs": [
    {
     "data": {
      "text/plain": [
       "2.0"
      ]
     },
     "execution_count": 10,
     "metadata": {},
     "output_type": "execute_result"
    }
   ],
   "source": [
    "# Czyli musimy odpowiedziec na pytanie jak zmieniło sie pole obszaru po wykonaniu przeksztalcenia\n",
    "\n",
    "from numpy.linalg import det\n",
    "\n",
    "i = array([1,0])\n",
    "j = array([2,2])\n",
    "\n",
    "baza = array([i,j]).T\n",
    "det(baza)"
   ]
  },
  {
   "cell_type": "markdown",
   "id": "385d062e-fb99-45b9-9413-1033d0931219",
   "metadata": {},
   "source": [
    "Czy dwa lub więcej przekształeń liniowych można przeprowadzić w ramach jednego przekształcenia liniowego. Dlaczego tak albo dlaczego nie?\n",
    "\n",
    "Tak, poniważ możemy przkeształcenia zagregować do matrycy."
   ]
  },
  {
   "cell_type": "markdown",
   "id": "2e291fe1-e580-4f8b-9950-4fb748964168",
   "metadata": {},
   "source": [
    "Rozwiąż układ równań z niewiadomymi x,y,z:\n",
    "\n",
    "$\n",
    "3x + 1y + 0z = 54\n",
    "$\n",
    "\n",
    "$\n",
    "2x + 4y + 1z = 12\n",
    "$\n",
    "\n",
    "$\n",
    "3x + 1y + 8z = 6\n",
    "$"
   ]
  },
  {
   "cell_type": "code",
   "execution_count": 11,
   "id": "f3cf5e59-c6a4-430a-afe7-201978bdefb2",
   "metadata": {},
   "outputs": [
    {
     "data": {
      "text/plain": [
       "array([[3, 1, 0],\n",
       "       [2, 4, 1],\n",
       "       [3, 1, 8]])"
      ]
     },
     "execution_count": 11,
     "metadata": {},
     "output_type": "execute_result"
    }
   ],
   "source": [
    "# Czyli dzielimy sobie ten uklad\n",
    "# na matryce\n",
    "# W matrycy A umieszczamy coefficients do\n",
    "# niewiadomych\n",
    "A = array ([\n",
    "    [3,1,0],\n",
    "    [2,4,1],\n",
    "    [3,1,8]\n",
    "])\n",
    "\n",
    "A\n",
    "\n"
   ]
  },
  {
   "cell_type": "code",
   "execution_count": 12,
   "id": "0b44a8bf-aa2f-46d5-af77-7222b51fdf7a",
   "metadata": {},
   "outputs": [
    {
     "data": {
      "text/plain": [
       "array([54, 12,  6])"
      ]
     },
     "execution_count": 12,
     "metadata": {},
     "output_type": "execute_result"
    }
   ],
   "source": [
    "# W matrycy B umieszczamy wartosci po prawej stronie\n",
    "B = array([\n",
    "    54,12,6])\n",
    "B"
   ]
  },
  {
   "cell_type": "code",
   "execution_count": 16,
   "id": "ca6691bf-e0a4-488e-9d58-21d19030c301",
   "metadata": {},
   "outputs": [
    {
     "data": {
      "text/plain": [
       "array([[ 0.3875, -0.1   ,  0.0125],\n",
       "       [-0.1625,  0.3   , -0.0375],\n",
       "       [-0.125 ,  0.    ,  0.125 ]])"
      ]
     },
     "execution_count": 16,
     "metadata": {},
     "output_type": "execute_result"
    }
   ],
   "source": [
    "#Obliczamy odwrotnosc macierzy A\n",
    "A_inv = inv(A)\n",
    "A_inv"
   ]
  },
  {
   "cell_type": "code",
   "execution_count": 19,
   "id": "911a0d2a-4ac9-421d-a09e-57e5972ccf92",
   "metadata": {},
   "outputs": [
    {
     "data": {
      "text/plain": [
       "array([19.8, -5.4, -6. ])"
      ]
     },
     "execution_count": 19,
     "metadata": {},
     "output_type": "execute_result"
    }
   ],
   "source": [
    "# Mnozymy macierz odwrotna A przez B\n",
    "A_inv.dot(B)"
   ]
  },
  {
   "cell_type": "markdown",
   "id": "2c066153-a094-4488-aaaa-302c3aaa1ec7",
   "metadata": {},
   "source": [
    "Czy ponizsza macierz jest liniowa zalezna? Dlaczego tak albo dlaczego nie?"
   ]
  },
  {
   "cell_type": "code",
   "execution_count": 29,
   "id": "220b1d42-1627-44dd-85a9-ec97a28f1e9a",
   "metadata": {},
   "outputs": [
    {
     "data": {
      "text/latex": [
       "$\\displaystyle \\left[\\begin{matrix}2 & 1\\\\6 & 3\\end{matrix}\\right]$"
      ],
      "text/plain": [
       "Matrix([\n",
       "[2, 1],\n",
       "[6, 3]])"
      ]
     },
     "execution_count": 29,
     "metadata": {},
     "output_type": "execute_result"
    }
   ],
   "source": [
    "baza = Matrix([\n",
    "    [2,1],\n",
    "    [6,3]\n",
    "])\n",
    "baza"
   ]
  },
  {
   "cell_type": "code",
   "execution_count": 30,
   "id": "f124477d-a83c-4816-804e-a15f1f93299d",
   "metadata": {},
   "outputs": [
    {
     "data": {
      "text/latex": [
       "$\\displaystyle 0$"
      ],
      "text/plain": [
       "0"
      ]
     },
     "execution_count": 30,
     "metadata": {},
     "output_type": "execute_result"
    }
   ],
   "source": [
    "wyznacznik = det(baza)\n",
    "wyznacznik"
   ]
  },
  {
   "cell_type": "markdown",
   "id": "22474778-5ff7-4d30-991f-563e4a611a9c",
   "metadata": {},
   "source": [
    "Ponizsza macierz jest liniowa zalezna, poniewaz jej wyznacznik jest równy zero."
   ]
  }
 ],
 "metadata": {
  "kernelspec": {
   "display_name": "Python 3 (ipykernel)",
   "language": "python",
   "name": "python3"
  },
  "language_info": {
   "codemirror_mode": {
    "name": "ipython",
    "version": 3
   },
   "file_extension": ".py",
   "mimetype": "text/x-python",
   "name": "python",
   "nbconvert_exporter": "python",
   "pygments_lexer": "ipython3",
   "version": "3.9.7"
  }
 },
 "nbformat": 4,
 "nbformat_minor": 5
}
