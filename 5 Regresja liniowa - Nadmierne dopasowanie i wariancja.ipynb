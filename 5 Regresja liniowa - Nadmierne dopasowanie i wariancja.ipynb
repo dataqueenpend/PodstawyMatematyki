{
 "cells": [
  {
   "cell_type": "markdown",
   "id": "1af149c9-4bf7-4644-80fe-0a82b0189c75",
   "metadata": {},
   "source": [
    "# Regresja liniowa\n",
    "## Nadmierne dopasowanie i wariancja\n",
    "\n",
    "Perfekcyjne dopasowanie punktów danych do linii oznacza przetrzenowanie modelu. A celem regresji jest minimalizacja błędu i predykcja na nowych danych. Przetrenowanie, nadmierne dopasowanie do danych treningowych może zatem rodzić więcej problemów niż pożytku.\n",
    "\n",
    "Progrnozy przetrenowanego modelu (lub zapamiętanie danych) będą cechować się dużą wariancją. Może być to szczególnie widoczne w przypadku datasetów z większym rozrzutem danych i ilością danych odstających. W regresji nie chodzi o perfekcyjną predycję, a dobre generalizowanie.\n",
    "\n",
    "Regresja liniowa uważana jest za model mocno obciążony (nie mylić z obciążeniem danych). Aby uniknąć nadmiernego przetrenowania, i zachować linię prostą regresji, dodajemy 'obciążenie' do regresji. \n",
    "\n",
    "W regresji liniowej bardzo często używanymi wariantami są regresja lasso i regresja grzbietowa (ridge). Lasso marginalizuje zmienne powodujące szum - szczególnie przydatne, gdy w zbiorze istnieją zmienne, które są mniej wartościowe dla predykcji. Regresja ridge dodaje tzw. karę (obciążenie) do regresji, co powoduje mniejsze dopasowanie do danych. "
   ]
  },
  {
   "cell_type": "markdown",
   "id": "8712fbcd-6d1d-4897-9a8c-3d79ebb1524e",
   "metadata": {},
   "source": [
    "## Metoda stochastycznego gradientu prostego\n",
    "\n",
    "Czym różni się gradient prosty od metody stochastycznej gradientu prostego? Tym, że zamiast uczenia na wszystkich danych treningowych (gradient prosty) uczymy model w każdej iteracji na jednej próbie danych. \n",
    "\n",
    "Dlaczego ta metoda jest lepsza od zwyczajnego gradientu prostego? Po pierwsze gwarantuje szybsze obliczenia. A po drugie - ogranicza ryzyka nadmiernego dopasowania. Poprzez to, że w każdej iteracji algorytm otrzymuje nowe dane, uniemożliwia to jego szybkie zejście do minimum.\n",
    "\n"
   ]
  },
  {
   "cell_type": "code",
   "execution_count": 14,
   "id": "62fab6b7-5c60-4d7a-8e49-a2a98edb955e",
   "metadata": {},
   "outputs": [],
   "source": [
    "import pandas as pd\n",
    "import numpy as np\n",
    "import matplotlib.pyplot as plt\n",
    "from math import sqrt"
   ]
  },
  {
   "cell_type": "code",
   "execution_count": 12,
   "id": "014256c4-3506-4cd9-b93b-fbed95e81242",
   "metadata": {},
   "outputs": [],
   "source": [
    "data = pd.read_csv('https://bit.ly/2KF29Bd', header=0)"
   ]
  },
  {
   "cell_type": "code",
   "execution_count": 8,
   "id": "f4fbc4bf-f686-4f92-84f9-e76eeb2c58dc",
   "metadata": {},
   "outputs": [
    {
     "data": {
      "text/html": [
       "<div>\n",
       "<style scoped>\n",
       "    .dataframe tbody tr th:only-of-type {\n",
       "        vertical-align: middle;\n",
       "    }\n",
       "\n",
       "    .dataframe tbody tr th {\n",
       "        vertical-align: top;\n",
       "    }\n",
       "\n",
       "    .dataframe thead th {\n",
       "        text-align: right;\n",
       "    }\n",
       "</style>\n",
       "<table border=\"1\" class=\"dataframe\">\n",
       "  <thead>\n",
       "    <tr style=\"text-align: right;\">\n",
       "      <th></th>\n",
       "      <th>x</th>\n",
       "      <th>y</th>\n",
       "    </tr>\n",
       "  </thead>\n",
       "  <tbody>\n",
       "    <tr>\n",
       "      <th>0</th>\n",
       "      <td>1</td>\n",
       "      <td>5</td>\n",
       "    </tr>\n",
       "    <tr>\n",
       "      <th>1</th>\n",
       "      <td>2</td>\n",
       "      <td>10</td>\n",
       "    </tr>\n",
       "    <tr>\n",
       "      <th>2</th>\n",
       "      <td>3</td>\n",
       "      <td>10</td>\n",
       "    </tr>\n",
       "    <tr>\n",
       "      <th>3</th>\n",
       "      <td>4</td>\n",
       "      <td>15</td>\n",
       "    </tr>\n",
       "    <tr>\n",
       "      <th>4</th>\n",
       "      <td>5</td>\n",
       "      <td>14</td>\n",
       "    </tr>\n",
       "  </tbody>\n",
       "</table>\n",
       "</div>"
      ],
      "text/plain": [
       "   x   y\n",
       "0  1   5\n",
       "1  2  10\n",
       "2  3  10\n",
       "3  4  15\n",
       "4  5  14"
      ]
     },
     "execution_count": 8,
     "metadata": {},
     "output_type": "execute_result"
    }
   ],
   "source": [
    "data.head()"
   ]
  },
  {
   "cell_type": "code",
   "execution_count": 7,
   "id": "cee14138-188d-4153-bc4d-cf5bc5862610",
   "metadata": {},
   "outputs": [],
   "source": [
    "x = data.iloc[:, 0].values\n",
    "y = data.iloc[:, 1].values"
   ]
  },
  {
   "cell_type": "code",
   "execution_count": 9,
   "id": "d607f860-e360-4b7d-99fb-0e5b869dace5",
   "metadata": {},
   "outputs": [],
   "source": [
    "n = data.shape[0]\n",
    "m = 0.0\n",
    "b = 0.0\n",
    "rozmiar_proby = 1\n",
    "L = .0001\n",
    "epoki = 1000000"
   ]
  },
  {
   "cell_type": "code",
   "execution_count": 10,
   "id": "f4f1663f-4ca9-48a6-9b7a-eb8ca35312d4",
   "metadata": {},
   "outputs": [
    {
     "name": "stdout",
     "output_type": "stream",
     "text": [
      "0 0.028800000000000003 0.032400000000000005\n",
      "10000 2.267541573835922 2.2673655211673265\n",
      "20000 2.2895735675347235 2.2893664142118326\n",
      "30000 2.2877202233434533 2.2875156103201233\n",
      "40000 2.2777426717836424 2.2784677376683806\n",
      "50000 2.275538016969995 2.2759952066463143\n",
      "60000 2.3025216443857572 2.3026388415675814\n",
      "70000 2.296370207091964 2.295907897819046\n",
      "80000 2.27891810143072 2.2789836664030045\n",
      "90000 2.318575443851066 2.3183273397821864\n",
      "100000 2.2668212696355488 2.2666463299865565\n",
      "110000 2.288633592393915 2.288718047219837\n",
      "120000 2.261979083420496 2.2615007298866856\n",
      "130000 2.2735067314361403 2.274143473071096\n",
      "140000 2.2868290075507494 2.286885115144734\n",
      "150000 2.325801565155889 2.3255431514538834\n",
      "160000 2.2972398442645074 2.2970217948146567\n",
      "170000 2.264520316156323 2.264348415489949\n",
      "180000 2.2975176904692773 2.298222984655242\n",
      "190000 2.2975454197676792 2.2977077404440265\n",
      "200000 2.301537942963756 2.3013137830890606\n",
      "210000 2.311587502958531 2.3116138033898803\n",
      "220000 2.29160511137922 2.2916884177629675\n",
      "230000 2.289129828610356 2.289183106506378\n",
      "240000 2.2365571512332694 2.2372159650603103\n",
      "250000 2.2630993328456173 2.263194092990572\n",
      "260000 2.271434774253363 2.2715095373067182\n",
      "270000 2.3144318785369733 2.3145805674340982\n",
      "280000 2.312557029044756 2.312632016020404\n",
      "290000 2.2780717695087658 2.2782498408201928\n",
      "300000 2.326286286198739 2.3257566706087194\n",
      "310000 2.2769068395472734 2.2773610557693162\n",
      "320000 2.279810012705417 2.2805331965784927\n",
      "330000 2.2963604291932964 2.2964419609595885\n",
      "340000 2.3015743723912663 2.3016125884744074\n",
      "350000 2.289936487426936 2.2901050320639897\n",
      "360000 2.2872796993560343 2.2870757607636683\n",
      "370000 2.279150059491141 2.2792384732993787\n",
      "380000 2.285926759562593 2.2854879821798386\n",
      "390000 2.2519607716339194 2.2515007107475764\n",
      "400000 2.315840501297969 2.316527331963165\n",
      "410000 2.2795836065733517 2.279648459954584\n",
      "420000 2.2928269956761715 2.292959951589829\n",
      "430000 2.2938825077296965 2.2939648627767446\n",
      "440000 2.291563882288567 2.2916141822154166\n",
      "450000 2.283786542389893 2.2845056195019975\n",
      "460000 2.2934826732520075 2.2941918849885163\n",
      "470000 2.265818956334076 2.265645332701305\n",
      "480000 2.299028563533497 2.29856027464137\n",
      "490000 2.2901500469611196 2.289701711848797\n",
      "500000 2.297205470074508 2.2972489599638606\n",
      "510000 2.317003672712241 2.316757664263076\n",
      "520000 2.256594461345916 2.256221735936744\n",
      "530000 2.2950405405460095 2.2951697985222497\n",
      "540000 2.296059096307532 2.2961406222034477\n",
      "550000 2.2815220310608706 2.281673393519377\n",
      "560000 2.2537496745702588 2.2539458527332394\n",
      "570000 2.321290019332748 2.321376854823387\n",
      "580000 2.29808584142262 2.2982102651264635\n",
      "590000 2.312397306864013 2.3118989314588334\n",
      "600000 2.2597064609285162 2.259541387823742\n",
      "610000 2.2710855122393734 2.2709045085861765\n",
      "620000 2.286420557544643 2.2865061114904974\n",
      "630000 2.273465214224509 2.2729656378540266\n",
      "640000 2.296399271919083 2.2959368972553937\n",
      "650000 2.2714978552438656 2.271572490617013\n",
      "660000 2.296487259742925 2.2966142698609815\n",
      "670000 2.28420146382927 2.284348351863374\n",
      "680000 2.2810612190483988 2.280633456434414\n",
      "690000 2.267781769155961 2.2673838586186146\n",
      "700000 2.2944755128288823 2.294557630665174\n",
      "710000 2.318060448140731 2.318133116081375\n",
      "720000 2.2891942669098087 2.289623589010866\n",
      "730000 2.3345290829063092 2.3345275049388428\n",
      "740000 2.275312733435514 2.2760403163476925\n",
      "750000 2.3120289434448567 2.312411745295325\n",
      "760000 2.243241569714933 2.2427973677156094\n",
      "770000 2.280043337115629 2.280107543783943\n",
      "780000 2.2885388897152996 2.2886786673636474\n",
      "790000 2.291355413105245 2.2914388708483306\n",
      "800000 2.290674767513423 2.2901440178885366\n",
      "810000 2.2884216833249194 2.289136102183989\n",
      "820000 2.2903789398158843 2.290430670125734\n",
      "830000 2.2799317958619634 2.2799962467921886\n",
      "840000 2.265426547498518 2.2652535948884935\n",
      "850000 2.280548343085008 2.280995273259658\n",
      "860000 2.263253685395846 2.263348293182866\n",
      "870000 2.2740350575819064 2.2741255621115566\n",
      "880000 2.290882023138703 2.2903506591248277\n",
      "890000 2.320767810421571 2.3211328305710666\n",
      "900000 2.305672685062307 2.305114429758645\n",
      "910000 2.2689828914726475 2.269453474399553\n",
      "920000 2.3023200396024435 2.303020565906252\n",
      "930000 2.256108761738444 2.2557372439825314\n",
      "940000 2.2784720668390164 2.278538284340393\n",
      "950000 2.266314898198166 2.266395884953201\n",
      "960000 2.2894765738909446 2.289529491752004\n",
      "970000 2.2741979082985426 2.2740123453757737\n",
      "980000 2.2791422356002693 2.2793194315544016\n",
      "990000 2.290669449713813 2.2907209385152645\n",
      "y = 2.286421876714646x +2.287138285751825\n"
     ]
    }
   ],
   "source": [
    "# stochastyczny gradient prosty\n",
    "for i in range(epoki):\n",
    "    idx = np.random.choice(n, rozmiar_proby, replace=False)\n",
    "    x_proba = x[idx]\n",
    "    y_proba = y[idx]\n",
    "    \n",
    "    # aktualna przewidywana wartosc y\n",
    "    y_pred = m * x_proba + b\n",
    "    # pochodna d/dm funkcji straty\n",
    "    d_m = (-2 / rozmiar_proby) * sum(x_proba * (y_proba - y_pred))\n",
    "    # pochodna d/db funkcji straty\n",
    "    d_b = (-2 / rozmiar_proby) * sum(y_proba - y_pred)\n",
    "    \n",
    "    #aktualizacja m i b\n",
    "    m = m - L * d_m\n",
    "    b = m - L * d_b\n",
    "    \n",
    "    if i % 10000 == 0:\n",
    "        print(i, m, b)\n",
    "print(f\"y = {m}x +{b}\")"
   ]
  },
  {
   "cell_type": "markdown",
   "id": "d15b771f-fccc-4139-a37b-6a0eaf77b1c6",
   "metadata": {},
   "source": [
    "Aby zredukować nadmierne dopasowanie dodatkowo wprowadziliśmy trochę losowości. Ze względu na zastosowanie metody stochastycznej, wyniki mieć szerszy zakres niż w przypadku tradycyjnego gradientu prostego."
   ]
  },
  {
   "cell_type": "markdown",
   "id": "7544f35c-8e0f-4a40-91a7-7881714e5b0e",
   "metadata": {},
   "source": [
    "## Współczynnik korelacji\n",
    "\n",
    "W przypadku danych silnie roproszonych, regresja liniowa nie będzie działać najlepiej. Poniżej mamy przykład:"
   ]
  },
  {
   "cell_type": "code",
   "execution_count": 5,
   "id": "b6f6a57c-6f29-4e2b-8fd3-f281886d84dc",
   "metadata": {},
   "outputs": [
    {
     "data": {
      "image/png": "[encoded data removed]",
      "text/plain": [
       "<Figure size 720x432 with 1 Axes>"
      ]
     },
     "metadata": {
      "needs_background": "light"
     },
     "output_type": "display_data"
    }
   ],
   "source": [
    "# Generate random data with high variance\n",
    "np.random.seed(42)\n",
    "x = np.linspace(0, 10, 50)\n",
    "y = 3 * x + 10 + np.random.normal(0, 20, 50)\n",
    "\n",
    "# Fit a linear regression line\n",
    "coefficients = np.polyfit(x, y, 1)\n",
    "regression_line = np.polyval(coefficients, x)\n",
    "\n",
    "# Create the plot\n",
    "plt.figure(figsize=(10, 6))\n",
    "plt.scatter(x, y, label='Data with High Variance')\n",
    "plt.plot(x, regression_line, color='red', label='Regression Line')\n",
    "plt.xlabel('X')\n",
    "plt.ylabel('Y')\n",
    "plt.title('Regression with High Variance Data')\n",
    "plt.legend()\n",
    "plt.grid(True)\n",
    "plt.show()\n"
   ]
  },
  {
   "cell_type": "markdown",
   "id": "d246a7d8-a6d9-4488-b4d0-ad45dd59921a",
   "metadata": {},
   "source": [
    "W przypadku danych z wysoką wariancją, model staje się mniej skuteczny. Przewidywania są mniej dokładne, a tym samym mało użyteczne. Obserwujemy również wysokie wartości reszt. Niedostateczne dopasowanie modelu jest tak samo niekorzystne, jak jego nadmierne dopasowanie do danych treningowych. \n",
    "\n",
    "**Korelacja Pearsona**\n",
    "\n",
    "Aby zmierzyć za jednym razem zarówno, jaką wartość przyjmują reszty, a także jaką wariancję obserwujemy w danych, możemy wykorzystać korelację pearsona (oznaczana symbolem r). Mierzy ona siłę relacji pomiędzy dwoma zmiennymi i przyjmuje wartośći od -1 do 1. Gdy wartość korelacji Pearsona wynosi 0, wskazuje się brak korelacji pomiędzy dwoma zmiennymi. 1 do silna dodatnia korelacja. -1 do silna ujemna korelacja.\n",
    "\n",
    "$\n",
    "r = \\frac{n \\sum xy - (\\sum x)(\\sum y)}{\\sqrt{n \\sum x^2 - (\\sum x^2)} \\sqrt{n \\sum y^2 - (\\sum y^2}}\n",
    "$\n",
    "\n",
    "Współczynnik korelacji dla powyższych danych wynosi 0.29:"
   ]
  },
  {
   "cell_type": "code",
   "execution_count": 6,
   "id": "42c459ec-2e1e-45f2-988d-8d7d250e0bcb",
   "metadata": {},
   "outputs": [
    {
     "name": "stdout",
     "output_type": "stream",
     "text": [
      "Pearson Correlation Coefficient: 0.2858802189575146\n"
     ]
    }
   ],
   "source": [
    "# Calculate Pearson correlation coefficient\n",
    "correlation_coefficient = np.corrcoef(x, y)[0, 1]\n",
    "\n",
    "print(\"Pearson Correlation Coefficient:\", correlation_coefficient)\n"
   ]
  },
  {
   "cell_type": "markdown",
   "id": "7f000a01-3938-40e6-b138-8966acacd07e",
   "metadata": {},
   "source": [
    "W przypadku, gdy obserwujemy silną korelację pearsona między dwoma zmiennymi, możemy przypuszczać, że ich użycie do modelu regresjii, będzie pomocne to zmienna będzie pomocna w budowie skutecznego modelu regresji. Wprowadzenie do modelu zmiennej o r bliskim zera, będzie osłabić możliwości predykcji modelu regresji."
   ]
  },
  {
   "cell_type": "markdown",
   "id": "3588563c-b1ea-458a-b144-b8aaeaaa3101",
   "metadata": {},
   "source": [
    "Korelację możemy wyliczyć również z pomocą biblioteki pandas. Dzięki funkcji corr() otrzymamy macierz korelacji."
   ]
  },
  {
   "cell_type": "code",
   "execution_count": 10,
   "id": "6000c483-34fe-40f9-b696-ab02f6726477",
   "metadata": {},
   "outputs": [],
   "source": [
    "df = pd.DataFrame({'x': x, 'y': y})"
   ]
  },
  {
   "cell_type": "code",
   "execution_count": 11,
   "id": "bf4f3835-a057-41f6-86be-ed1e024d826b",
   "metadata": {},
   "outputs": [
    {
     "data": {
      "text/html": [
       "<div>\n",
       "<style scoped>\n",
       "    .dataframe tbody tr th:only-of-type {\n",
       "        vertical-align: middle;\n",
       "    }\n",
       "\n",
       "    .dataframe tbody tr th {\n",
       "        vertical-align: top;\n",
       "    }\n",
       "\n",
       "    .dataframe thead th {\n",
       "        text-align: right;\n",
       "    }\n",
       "</style>\n",
       "<table border=\"1\" class=\"dataframe\">\n",
       "  <thead>\n",
       "    <tr style=\"text-align: right;\">\n",
       "      <th></th>\n",
       "      <th>x</th>\n",
       "      <th>y</th>\n",
       "    </tr>\n",
       "  </thead>\n",
       "  <tbody>\n",
       "    <tr>\n",
       "      <th>x</th>\n",
       "      <td>1.00000</td>\n",
       "      <td>0.28588</td>\n",
       "    </tr>\n",
       "    <tr>\n",
       "      <th>y</th>\n",
       "      <td>0.28588</td>\n",
       "      <td>1.00000</td>\n",
       "    </tr>\n",
       "  </tbody>\n",
       "</table>\n",
       "</div>"
      ],
      "text/plain": [
       "         x        y\n",
       "x  1.00000  0.28588\n",
       "y  0.28588  1.00000"
      ]
     },
     "execution_count": 11,
     "metadata": {},
     "output_type": "execute_result"
    }
   ],
   "source": [
    "df.corr(method='pearson') "
   ]
  },
  {
   "cell_type": "markdown",
   "id": "232b1232-f5a9-4d3e-97ad-92b3b90dafa1",
   "metadata": {},
   "source": [
    "Dla porównania, popatrzmy na korelację w wcześniej używamy przez nas datasecie."
   ]
  },
  {
   "cell_type": "code",
   "execution_count": 13,
   "id": "6c670ab5-e4e5-432c-babd-f14f75cb7be9",
   "metadata": {},
   "outputs": [
    {
     "data": {
      "text/html": [
       "<div>\n",
       "<style scoped>\n",
       "    .dataframe tbody tr th:only-of-type {\n",
       "        vertical-align: middle;\n",
       "    }\n",
       "\n",
       "    .dataframe tbody tr th {\n",
       "        vertical-align: top;\n",
       "    }\n",
       "\n",
       "    .dataframe thead th {\n",
       "        text-align: right;\n",
       "    }\n",
       "</style>\n",
       "<table border=\"1\" class=\"dataframe\">\n",
       "  <thead>\n",
       "    <tr style=\"text-align: right;\">\n",
       "      <th></th>\n",
       "      <th>x</th>\n",
       "      <th>y</th>\n",
       "    </tr>\n",
       "  </thead>\n",
       "  <tbody>\n",
       "    <tr>\n",
       "      <th>x</th>\n",
       "      <td>1.000000</td>\n",
       "      <td>0.957586</td>\n",
       "    </tr>\n",
       "    <tr>\n",
       "      <th>y</th>\n",
       "      <td>0.957586</td>\n",
       "      <td>1.000000</td>\n",
       "    </tr>\n",
       "  </tbody>\n",
       "</table>\n",
       "</div>"
      ],
      "text/plain": [
       "          x         y\n",
       "x  1.000000  0.957586\n",
       "y  0.957586  1.000000"
      ]
     },
     "execution_count": 13,
     "metadata": {},
     "output_type": "execute_result"
    }
   ],
   "source": [
    "data.corr(method='pearson')"
   ]
  },
  {
   "cell_type": "markdown",
   "id": "d4518b12-90e3-40d1-91de-5ae612384d62",
   "metadata": {},
   "source": [
    "Jak widać, w jego przypadku widzimy silną dodatnią korelację pomiędzy zmiennymi. Macierz korelacji możemy wykorzystać rónież w datasetach z większą ilością danych. Bęziemy wtedy mieli więcj kolumn i wierszy. \n",
    "\n",
    "Zamiast korzystać z gotowych funkcji, możemy rówdnież samodzielnie zaimplementować wzór na korelację w pythonie:"
   ]
  },
  {
   "cell_type": "code",
   "execution_count": 17,
   "id": "32de2081-55c5-442b-8297-5c3a86d3e6c5",
   "metadata": {},
   "outputs": [],
   "source": [
    "points = list(data.itertuples())\n",
    "n = len(points)\n",
    "licznik = n * sum(p.x * p.y for p in points) - sum(\n",
    "    p.x for p in points) * sum(p.y for p in points)\n",
    "mianownik = sqrt(n * sum(p.x**2 for p in points) - sum(p.x for p in points)**2) * sqrt(\n",
    "    n * sum(p.y ** 2 for p in points) - sum(p.y for p in points) ** 2)"
   ]
  },
  {
   "cell_type": "code",
   "execution_count": 18,
   "id": "33c2d0e2-071a-481e-9556-d573f2aa2415",
   "metadata": {},
   "outputs": [
    {
     "data": {
      "text/plain": [
       "0.9575860952087218"
      ]
     },
     "execution_count": 18,
     "metadata": {},
     "output_type": "execute_result"
    }
   ],
   "source": [
    "licznik/mianownik"
   ]
  }
 ],
 "metadata": {
  "kernelspec": {
   "display_name": "Python 3 (ipykernel)",
   "language": "python",
   "name": "python3"
  },
  "language_info": {
   "codemirror_mode": {
    "name": "ipython",
    "version": 3
   },
   "file_extension": ".py",
   "mimetype": "text/x-python",
   "name": "python",
   "nbconvert_exporter": "python",
   "pygments_lexer": "ipython3",
   "version": "3.9.7"
  }
 },
 "nbformat": 4,
 "nbformat_minor": 5
}
