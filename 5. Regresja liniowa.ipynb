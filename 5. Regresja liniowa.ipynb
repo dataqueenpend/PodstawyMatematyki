{
 "cells": [
  {
   "cell_type": "markdown",
   "id": "75ddaf2c-ebe9-4804-b96d-e00def353da2",
   "metadata": {},
   "source": [
    "# Regresja liniowa\n",
    "\n",
    "Regresja jest podstawową i jednocześnie najbardziej popularną techniką w analityce. Służy ona wykazaniu/zmierzeniu, czy istnieje relacja pomiędzy dwiema lub wieloma zmiennymi. W ramach regresji staramy się najlepiej dopasować linię, do obserwowanych danych, aby zmniejszyć błąd pomiędzy rzeczywistym, a przewidywanym punktem danych. \n",
    "\n",
    "Regresja jest znana od ponad dwustu lat. I sama w sobie stanowi podstawę dla wielu innych technik machine learningowych, jak sieci neuronowe, czy regresja logistyczna. \n",
    "\n",
    "Regresja jest fundamentem dla wielu algorytmów z rodziny nadzorowanego uczenia maszynowego."
   ]
  },
  {
   "cell_type": "markdown",
   "id": "c1e3fd2d-14eb-4f94-8bfc-6661c6c84e0b",
   "metadata": {},
   "source": [
    "## Podstawowa regresja liniowa\n",
    "\n",
    "Dlaczego regresj liniowa jest przydatna?\n",
    "\n",
    "Pozwala przewidywać dane, których wcześniej nie zaobserwowaliśmy. Jeśli wykreślimy (obliczymy) regresję liniową na podstawie jakiegoś zbioru danych, to gdy pojawi się nowy punkt danych, możemy na jej podstawie oszacować, jaką wartość będzie mieć w zmiennej zależnej (y). \n",
    "\n",
    "Dodatkowo, dzięki regresji, możemy przyjrzeć się, czy pomiędzy parami zmiennych wsystępują korelacje, a nawet zweryfikować występowanie związku przyczynowo-skutkowego. \n",
    "\n",
    "## Niebezpicezństwa regresji liniowej\n",
    "\n",
    "To, o czym warto pamiętać (oprócz oczywistości, że regresja na prawdziwych danych prawie nigdy nie będzie pozwalała na ułożenie danych równo na linii), to również fakt, że nie powinniśmy przewidywać na nowych danych (np. x>8), które wykraczają poza zakres danych wejściowych (np. 2 do 8). \n",
    "\n",
    "Aby regresja liniowa, była miarodajna, konieczne jest również sprawdzanie, a jaki sposób zostały pozyskane dane, czy np. próba nie jest jakoś obciążona (błąd autoselekcji). "
   ]
  },
  {
   "cell_type": "markdown",
   "id": "963c5edd-e845-4e72-94cb-792740318c50",
   "metadata": {},
   "source": [
    "## Budowa regresji liniowej z sklearn"
   ]
  },
  {
   "cell_type": "code",
   "execution_count": 29,
   "id": "b07ad6a2-5801-4162-abbd-d3fca00b5741",
   "metadata": {},
   "outputs": [],
   "source": [
    "import pandas as pd\n",
    "import matplotlib.pyplot as plt\n",
    "from numpy.linalg import inv, qr\n",
    "from sklearn.linear_model import LinearRegression\n",
    "from sklearn.datasets import load_diabetes\n",
    "import numpy as np"
   ]
  },
  {
   "cell_type": "code",
   "execution_count": 2,
   "id": "2e1869e0-4052-43b6-a5ed-293c4da4be8d",
   "metadata": {},
   "outputs": [
    {
     "data": {
      "text/plain": [
       "dict_keys(['data', 'target', 'frame', 'DESCR', 'feature_names', 'data_filename', 'target_filename'])"
      ]
     },
     "execution_count": 2,
     "metadata": {},
     "output_type": "execute_result"
    }
   ],
   "source": [
    "# dane\n",
    "data = load_diabetes()\n",
    "\n",
    "data.keys()"
   ]
  },
  {
   "cell_type": "code",
   "execution_count": 3,
   "id": "7e8067b8-7454-4631-9022-bc5a19492e86",
   "metadata": {},
   "outputs": [
    {
     "data": {
      "text/plain": [
       "sklearn.utils.Bunch"
      ]
     },
     "execution_count": 3,
     "metadata": {},
     "output_type": "execute_result"
    }
   ],
   "source": [
    "type(data)"
   ]
  },
  {
   "cell_type": "code",
   "execution_count": 4,
   "id": "99ae0065-f4ea-437d-b1fe-15f7c85a68d4",
   "metadata": {},
   "outputs": [],
   "source": [
    "df = pd.DataFrame(data.data, columns=data.feature_names)\n",
    "df['target'] = data.target"
   ]
  },
  {
   "cell_type": "code",
   "execution_count": 5,
   "id": "d968ab1f-28f1-43bc-b8cd-8475d93db2c8",
   "metadata": {},
   "outputs": [
    {
     "data": {
      "text/html": [
       "<div>\n",
       "<style scoped>\n",
       "    .dataframe tbody tr th:only-of-type {\n",
       "        vertical-align: middle;\n",
       "    }\n",
       "\n",
       "    .dataframe tbody tr th {\n",
       "        vertical-align: top;\n",
       "    }\n",
       "\n",
       "    .dataframe thead th {\n",
       "        text-align: right;\n",
       "    }\n",
       "</style>\n",
       "<table border=\"1\" class=\"dataframe\">\n",
       "  <thead>\n",
       "    <tr style=\"text-align: right;\">\n",
       "      <th></th>\n",
       "      <th>age</th>\n",
       "      <th>sex</th>\n",
       "      <th>bmi</th>\n",
       "      <th>bp</th>\n",
       "      <th>s1</th>\n",
       "      <th>s2</th>\n",
       "      <th>s3</th>\n",
       "      <th>s4</th>\n",
       "      <th>s5</th>\n",
       "      <th>s6</th>\n",
       "      <th>target</th>\n",
       "    </tr>\n",
       "  </thead>\n",
       "  <tbody>\n",
       "    <tr>\n",
       "      <th>0</th>\n",
       "      <td>0.038076</td>\n",
       "      <td>0.050680</td>\n",
       "      <td>0.061696</td>\n",
       "      <td>0.021872</td>\n",
       "      <td>-0.044223</td>\n",
       "      <td>-0.034821</td>\n",
       "      <td>-0.043401</td>\n",
       "      <td>-0.002592</td>\n",
       "      <td>0.019908</td>\n",
       "      <td>-0.017646</td>\n",
       "      <td>151.0</td>\n",
       "    </tr>\n",
       "    <tr>\n",
       "      <th>1</th>\n",
       "      <td>-0.001882</td>\n",
       "      <td>-0.044642</td>\n",
       "      <td>-0.051474</td>\n",
       "      <td>-0.026328</td>\n",
       "      <td>-0.008449</td>\n",
       "      <td>-0.019163</td>\n",
       "      <td>0.074412</td>\n",
       "      <td>-0.039493</td>\n",
       "      <td>-0.068330</td>\n",
       "      <td>-0.092204</td>\n",
       "      <td>75.0</td>\n",
       "    </tr>\n",
       "    <tr>\n",
       "      <th>2</th>\n",
       "      <td>0.085299</td>\n",
       "      <td>0.050680</td>\n",
       "      <td>0.044451</td>\n",
       "      <td>-0.005671</td>\n",
       "      <td>-0.045599</td>\n",
       "      <td>-0.034194</td>\n",
       "      <td>-0.032356</td>\n",
       "      <td>-0.002592</td>\n",
       "      <td>0.002864</td>\n",
       "      <td>-0.025930</td>\n",
       "      <td>141.0</td>\n",
       "    </tr>\n",
       "    <tr>\n",
       "      <th>3</th>\n",
       "      <td>-0.089063</td>\n",
       "      <td>-0.044642</td>\n",
       "      <td>-0.011595</td>\n",
       "      <td>-0.036656</td>\n",
       "      <td>0.012191</td>\n",
       "      <td>0.024991</td>\n",
       "      <td>-0.036038</td>\n",
       "      <td>0.034309</td>\n",
       "      <td>0.022692</td>\n",
       "      <td>-0.009362</td>\n",
       "      <td>206.0</td>\n",
       "    </tr>\n",
       "    <tr>\n",
       "      <th>4</th>\n",
       "      <td>0.005383</td>\n",
       "      <td>-0.044642</td>\n",
       "      <td>-0.036385</td>\n",
       "      <td>0.021872</td>\n",
       "      <td>0.003935</td>\n",
       "      <td>0.015596</td>\n",
       "      <td>0.008142</td>\n",
       "      <td>-0.002592</td>\n",
       "      <td>-0.031991</td>\n",
       "      <td>-0.046641</td>\n",
       "      <td>135.0</td>\n",
       "    </tr>\n",
       "  </tbody>\n",
       "</table>\n",
       "</div>"
      ],
      "text/plain": [
       "        age       sex       bmi        bp        s1        s2        s3  \\\n",
       "0  0.038076  0.050680  0.061696  0.021872 -0.044223 -0.034821 -0.043401   \n",
       "1 -0.001882 -0.044642 -0.051474 -0.026328 -0.008449 -0.019163  0.074412   \n",
       "2  0.085299  0.050680  0.044451 -0.005671 -0.045599 -0.034194 -0.032356   \n",
       "3 -0.089063 -0.044642 -0.011595 -0.036656  0.012191  0.024991 -0.036038   \n",
       "4  0.005383 -0.044642 -0.036385  0.021872  0.003935  0.015596  0.008142   \n",
       "\n",
       "         s4        s5        s6  target  \n",
       "0 -0.002592  0.019908 -0.017646   151.0  \n",
       "1 -0.039493 -0.068330 -0.092204    75.0  \n",
       "2 -0.002592  0.002864 -0.025930   141.0  \n",
       "3  0.034309  0.022692 -0.009362   206.0  \n",
       "4 -0.002592 -0.031991 -0.046641   135.0  "
      ]
     },
     "execution_count": 5,
     "metadata": {},
     "output_type": "execute_result"
    }
   ],
   "source": [
    "df.head()"
   ]
  },
  {
   "cell_type": "code",
   "execution_count": 6,
   "id": "8b260b26-977c-4c27-a432-afa4e3226019",
   "metadata": {},
   "outputs": [],
   "source": [
    "# podzial zmienna zalezna, i zmienne niezalezne\n",
    "# konwersja do arrayów\n",
    "X = df.values[:, :-1] #wszystkie wiersze oprocz ostatniej kolumny\n",
    "y = df.values[:, -1] #tylko ostatni wiersz"
   ]
  },
  {
   "cell_type": "code",
   "execution_count": 7,
   "id": "7b51f19b-0eba-492d-929d-c2443dcce4ea",
   "metadata": {},
   "outputs": [],
   "source": [
    "# dopasowujemy linię regresji\n",
    "dop = LinearRegression(). fit(X,y)\n",
    "m = dop.coef_.flatten()\n",
    "b = dop.intercept_.flatten()"
   ]
  },
  {
   "cell_type": "code",
   "execution_count": 8,
   "id": "2ca628aa-1f9e-4d17-8f38-ae1c8419b483",
   "metadata": {},
   "outputs": [
    {
     "name": "stdout",
     "output_type": "stream",
     "text": [
      "m= [ -10.01219782 -239.81908937  519.83978679  324.39042769 -792.18416163\n",
      "  476.74583782  101.04457032  177.06417623  751.27932109   67.62538639] \n",
      "b= [152.13348416]\n"
     ]
    }
   ],
   "source": [
    "print(f\"\"\"m= {m} \n",
    "b= {b}\"\"\")"
   ]
  },
  {
   "cell_type": "markdown",
   "id": "eeacf31c-7c62-4f93-a096-dd8229cf01e1",
   "metadata": {},
   "source": [
    "## Reszty i kwadraty błędu - dopasowanie linii regresji\n",
    "\n",
    "Czym są reszty (błędy)?\n",
    "\n",
    "Reszty to odległość pomiędzy punktami danych i linią regresji. Czyli rzeczywistym punktem danych, a predykcją. Jeśli punkt danych znajduje się ponad linią, mamy resztę dodatną. Natomiast jeśli znajduje się pod linią, mamy resztę ujemną.\n",
    "\n",
    "Poniżej widzimy regresję liniową z punktami danych i kreskowanymi liniami ilustrującymi reszty."
   ]
  },
  {
   "cell_type": "code",
   "execution_count": 9,
   "id": "fdf48da9-3431-460b-9a60-a23a0b1b7724",
   "metadata": {},
   "outputs": [
    {
     "data": {
      "image/png": "[encoded data removed]",
      "text/plain": [
       "<Figure size 432x288 with 1 Axes>"
      ]
     },
     "metadata": {
      "needs_background": "light"
     },
     "output_type": "display_data"
    }
   ],
   "source": [
    "\n",
    "# Przykładowe dane (możesz je dostosować do swoich potrzeb)\n",
    "x = np.array([1, 2, 3, 4, 5, 6, 7, 8, 9, 10])\n",
    "y = np.array([2, 3, 5, 4, 6, 8, 7, 9, 10, 12])\n",
    "\n",
    "# Obliczamy współczynniki regresji liniowej\n",
    "coefficients = np.polyfit(x, y, 1)\n",
    "line = np.poly1d(coefficients)\n",
    "\n",
    "# Rysujemy wykres\n",
    "plt.scatter(x, y, label='Punkty danych', color='b')\n",
    "plt.plot(x, line(x), 'r', label='Regresja liniowa')\n",
    "\n",
    "# Obliczamy reszty\n",
    "residuals = y - line(x)\n",
    "\n",
    "# Rysujemy linie kreskowane dla reszt\n",
    "for i in range(len(x)):\n",
    "    plt.plot([x[i], x[i]], [y[i], line(x[i])], 'k--')\n",
    "\n",
    "plt.xlabel('Wartości x')\n",
    "plt.ylabel('Wartości y')\n",
    "plt.title('Regresja liniowa z resztami')\n",
    "plt.legend()\n",
    "plt.grid(True)\n",
    "plt.show()\n"
   ]
  },
  {
   "cell_type": "markdown",
   "id": "acc34953-ad6a-4b84-89af-ac201ceaaa99",
   "metadata": {},
   "source": [
    "## Obliczanie reszt kwadartu"
   ]
  },
  {
   "cell_type": "code",
   "execution_count": 10,
   "id": "29da77ef-db08-4489-aa2b-04ff8de07960",
   "metadata": {},
   "outputs": [
    {
     "data": {
      "text/html": [
       "<div>\n",
       "<style scoped>\n",
       "    .dataframe tbody tr th:only-of-type {\n",
       "        vertical-align: middle;\n",
       "    }\n",
       "\n",
       "    .dataframe tbody tr th {\n",
       "        vertical-align: top;\n",
       "    }\n",
       "\n",
       "    .dataframe thead th {\n",
       "        text-align: right;\n",
       "    }\n",
       "</style>\n",
       "<table border=\"1\" class=\"dataframe\">\n",
       "  <thead>\n",
       "    <tr style=\"text-align: right;\">\n",
       "      <th></th>\n",
       "      <th>bmi</th>\n",
       "      <th>target</th>\n",
       "    </tr>\n",
       "  </thead>\n",
       "  <tbody>\n",
       "    <tr>\n",
       "      <th>0</th>\n",
       "      <td>0.061696</td>\n",
       "      <td>151.0</td>\n",
       "    </tr>\n",
       "    <tr>\n",
       "      <th>1</th>\n",
       "      <td>-0.051474</td>\n",
       "      <td>75.0</td>\n",
       "    </tr>\n",
       "    <tr>\n",
       "      <th>2</th>\n",
       "      <td>0.044451</td>\n",
       "      <td>141.0</td>\n",
       "    </tr>\n",
       "    <tr>\n",
       "      <th>3</th>\n",
       "      <td>-0.011595</td>\n",
       "      <td>206.0</td>\n",
       "    </tr>\n",
       "    <tr>\n",
       "      <th>4</th>\n",
       "      <td>-0.036385</td>\n",
       "      <td>135.0</td>\n",
       "    </tr>\n",
       "    <tr>\n",
       "      <th>5</th>\n",
       "      <td>-0.040696</td>\n",
       "      <td>97.0</td>\n",
       "    </tr>\n",
       "    <tr>\n",
       "      <th>6</th>\n",
       "      <td>-0.047163</td>\n",
       "      <td>138.0</td>\n",
       "    </tr>\n",
       "    <tr>\n",
       "      <th>7</th>\n",
       "      <td>-0.001895</td>\n",
       "      <td>63.0</td>\n",
       "    </tr>\n",
       "    <tr>\n",
       "      <th>8</th>\n",
       "      <td>0.061696</td>\n",
       "      <td>110.0</td>\n",
       "    </tr>\n",
       "    <tr>\n",
       "      <th>9</th>\n",
       "      <td>0.039062</td>\n",
       "      <td>310.0</td>\n",
       "    </tr>\n",
       "  </tbody>\n",
       "</table>\n",
       "</div>"
      ],
      "text/plain": [
       "        bmi  target\n",
       "0  0.061696   151.0\n",
       "1 -0.051474    75.0\n",
       "2  0.044451   141.0\n",
       "3 -0.011595   206.0\n",
       "4 -0.036385   135.0\n",
       "5 -0.040696    97.0\n",
       "6 -0.047163   138.0\n",
       "7 -0.001895    63.0\n",
       "8  0.061696   110.0\n",
       "9  0.039062   310.0"
      ]
     },
     "execution_count": 10,
     "metadata": {},
     "output_type": "execute_result"
    }
   ],
   "source": [
    "points = df[['bmi', 'target']].head(10)\n",
    "points"
   ]
  },
  {
   "cell_type": "markdown",
   "id": "b378139c-8521-48e7-862b-5139a0517119",
   "metadata": {},
   "source": [
    "Zwróć uwagę, że przy datasecie, który ma tylko dwie kolumny, przy jego slice, zwraca nam się jednowymiarowa tablica (series). Jednak sklearn wymaga do modelów tablic dwuwymiarowych. Dlatego też konieczne jest przekształcenie jednowymiarowych tablic (poprzez reshape) do tablic dwuwymiarowych)."
   ]
  },
  {
   "cell_type": "code",
   "execution_count": 11,
   "id": "a2f3cead-e0f4-4c6e-af34-cc912319fe3e",
   "metadata": {},
   "outputs": [
    {
     "data": {
      "text/plain": [
       "array([ 0.06169621, -0.05147406,  0.04445121, -0.01159501, -0.03638469,\n",
       "       -0.04069594, -0.04716281, -0.00189471,  0.06169621,  0.03906215])"
      ]
     },
     "execution_count": 11,
     "metadata": {},
     "output_type": "execute_result"
    }
   ],
   "source": [
    "df.bmi.values[:10]"
   ]
  },
  {
   "cell_type": "code",
   "execution_count": 12,
   "id": "29d0454c-1c36-4257-b5e8-c71e12d5c22a",
   "metadata": {},
   "outputs": [],
   "source": [
    "points_X = df.bmi.values.reshape(-1,1)\n",
    "points_y = df.target.values.reshape(-1,1)"
   ]
  },
  {
   "cell_type": "code",
   "execution_count": 13,
   "id": "a4060fc8-84ee-4040-921a-bc49fc3c3147",
   "metadata": {},
   "outputs": [
    {
     "data": {
      "text/plain": [
       "array([[ 0.06169621],\n",
       "       [-0.05147406],\n",
       "       [ 0.04445121],\n",
       "       [-0.01159501],\n",
       "       [-0.03638469],\n",
       "       [-0.04069594],\n",
       "       [-0.04716281],\n",
       "       [-0.00189471],\n",
       "       [ 0.06169621],\n",
       "       [ 0.03906215]])"
      ]
     },
     "execution_count": 13,
     "metadata": {},
     "output_type": "execute_result"
    }
   ],
   "source": [
    "points_X[:10]"
   ]
  },
  {
   "cell_type": "code",
   "execution_count": 14,
   "id": "69f97385-ad9b-4c61-bf29-c5e9b8c87a43",
   "metadata": {},
   "outputs": [],
   "source": [
    "# Dopasowujemy linie regresji\n",
    "lin_reg = LinearRegression().fit(points_X, points_y)\n",
    "m = lin_reg.coef_.flatten() #pobieramy informacje o nachyleniu i splaszczamy do jednego wymiaru\n",
    "b = lin_reg.intercept_.flatten() #pobieramy informacje o przecieciu i splaszczamy\n"
   ]
  },
  {
   "cell_type": "code",
   "execution_count": 15,
   "id": "0c3f4427-e79d-44a4-a019-cb4a30fde5fc",
   "metadata": {},
   "outputs": [
    {
     "data": {
      "text/plain": [
       "(array([949.43526038]), array([152.13348416]))"
      ]
     },
     "execution_count": 15,
     "metadata": {},
     "output_type": "execute_result"
    }
   ],
   "source": [
    "# Sprawdzmy wartosci m i b\n",
    "m, b"
   ]
  },
  {
   "cell_type": "code",
   "execution_count": 16,
   "id": "708c8620-9644-473f-8976-26305b9385d3",
   "metadata": {},
   "outputs": [
    {
     "name": "stdout",
     "output_type": "stream",
     "text": [
      "[-59.71003806]\n",
      "[-28.26219543]\n",
      "[-53.33703347]\n",
      "[64.87523145]\n",
      "[17.41142555]\n",
      "[-16.4953233]\n",
      "[30.64455342]\n",
      "[-87.33458363]\n",
      "[-100.71003806]\n",
      "[120.77953046]\n"
     ]
    }
   ],
   "source": [
    "# Obliczamy reszty\n",
    "for p in points.itertuples():\n",
    "    y_rzeczywista = p.target\n",
    "    y_przewidywana = m*p.bmi + b # po prawej mamy wzor na regresje liniowa\n",
    "    reszta = y_rzeczywista - y_przewidywana # wzor na obliczenie residuals (reszt)\n",
    "    print(reszta)"
   ]
  },
  {
   "cell_type": "markdown",
   "id": "ecf5e182-6209-47eb-9a56-0eda07d3ac39",
   "metadata": {},
   "source": [
    "Aby jak najlepiej dopasować linię regresji, konieczna jest minimalizacja łącznej wielkości tych reszt. Łączną wartość obliczamy (najczęściej) poprzez obliczenie sumy kwadratów. \n",
    "\n",
    "Wartości podniesione do kwadratu (a nie np. bezwględne) przyjmuje zwyczajowo najczęściej do obliczania najlepiej dopasowanej linii regresjii. Drugim powodem jest fakt, że wartości bewzględne słabo współpracują z pochodnymi, które później używamy w gradiencie prostym. \n",
    "\n",
    "Zsumujmy sumy kwadratów:\n",
    "\n"
   ]
  },
  {
   "cell_type": "code",
   "execution_count": 17,
   "id": "d6631a08-4963-4e28-82b0-e9b894a2f6fe",
   "metadata": {},
   "outputs": [
    {
     "name": "stdout",
     "output_type": "stream",
     "text": [
      "suma kwadratow = [45289.5534603]\n"
     ]
    }
   ],
   "source": [
    "suma_kwadratow = 0.0\n",
    "for p in points.itertuples():\n",
    "    y_rzeczywista = p.target\n",
    "    y_przewidywana = m * p.bmi + b\n",
    "    reszta_do_kwadratu = (y_rzeczywista - y_przewidywana) ** 2\n",
    "    suma_kwadratow += reszta_do_kwadratu\n",
    "print(f'suma kwadratow = {suma_kwadratow}')"
   ]
  },
  {
   "cell_type": "markdown",
   "id": "03ba5b2d-3896-4c3c-9c03-b3db57a98302",
   "metadata": {},
   "source": [
    "## Znajdowanie najlepiej dopasowanej linii\n",
    "\n",
    "Obliczyliśmy sumę kwadratów reszt. Mamy zatem metrykę, która pozwala na stwierdzenie, jak dopasowana jest linia regresji do danych. Jednak, jak znaleźć wartości m i b, które dadzą nam najmeniejszą wartość sumy kwadratów reszt? \n",
    "\n",
    "Jest na to kilka sposób:\n",
    "* równanie w formie zamkniętej,\n",
    "* odwracanie macierzy,\n",
    "* rozkład macierzy,\n",
    "* metoda gradientu prostego,\n",
    "* metoda gradientu stochastycznego.\n",
    "\n",
    "Istnieją inne algorytmy na wyszukiwanie wartości m i b, jednak tutaj weźmiemy na warsztat te najbardziej popularne."
   ]
  },
  {
   "cell_type": "markdown",
   "id": "d77df963-b997-4768-8997-e83589966e73",
   "metadata": {},
   "source": [
    "### Równanie w formie zamkniętej\n",
    "\n",
    "Jeśli mamy do czynienia z prostą regresją liniową (czyt. z jedną zmienną wejściową), to możemy znaleźć odpowiednie wartości m i b z pomocą równania w formie zamkniętej. \n",
    "\n",
    "Poniżej mamy wzór na $m$ i $b$ wg równania w formie zamkniętej:\n",
    "\n",
    "$\\ m = \\frac{n \\sum xy - \\sum x \\sum y}{\\sum x^2 - (\\sum x)^2} \\\n",
    "$\n",
    "\n",
    "$b = \\frac {\\sum y} {n} - m \\frac {\\sum x} {n}\n",
    "$\n",
    "\n",
    "Obliczmy to w pythonie:"
   ]
  },
  {
   "cell_type": "code",
   "execution_count": 18,
   "id": "ffa767f8-5b6a-41fd-9cb8-54d6f78d1ba2",
   "metadata": {},
   "outputs": [],
   "source": [
    "punkty = list(points.itertuples())\n",
    "n = len(punkty)"
   ]
  },
  {
   "cell_type": "code",
   "execution_count": 19,
   "id": "7c2337c8-01e6-43f8-ac90-befa331afefc",
   "metadata": {},
   "outputs": [],
   "source": [
    "m = (n * sum(p.bmi * p.target for p in punkty) - \n",
    "     sum(p.bmi for p in punkty) * sum(p.target for p in punkty)) / (\n",
    "    n * sum(p.bmi ** 2 for p in punkty) - sum(p.bmi for p in punkty) ** 2)"
   ]
  },
  {
   "cell_type": "code",
   "execution_count": 20,
   "id": "1d8481d9-2957-4315-92b0-16aa133be2ad",
   "metadata": {},
   "outputs": [],
   "source": [
    "b = (sum(p.target for p in punkty) / n) - m * sum(p.bmi for p in punkty) / n"
   ]
  },
  {
   "cell_type": "code",
   "execution_count": 21,
   "id": "9d10cbab-f424-46db-96a2-574b57145d11",
   "metadata": {},
   "outputs": [
    {
     "data": {
      "text/plain": [
       "(535.7409619569211, 141.65181606678237)"
      ]
     },
     "execution_count": 21,
     "metadata": {},
     "output_type": "execute_result"
    }
   ],
   "source": [
    "m, b"
   ]
  },
  {
   "cell_type": "markdown",
   "id": "9474f428-2fec-4314-a0e0-9dc44bbadbb1",
   "metadata": {},
   "source": [
    "Powyższe wzory są wyprowadzane z rachunku różniczkowego i całkowego. \n",
    "Niestety nie skalują się one dobrze przy większej ilości zmiennych wejściowych. \n",
    "Więcej na ten temat w filmach: 'P vs. NP and the computational complexity zoo' oraz 'what is a big o notation'."
   ]
  },
  {
   "cell_type": "markdown",
   "id": "8b058774-8bba-4885-a9d5-f2a2a05daf86",
   "metadata": {},
   "source": [
    "### Techniki wykorzystujące macierze odwrotne\n",
    "\n",
    "Aby dopasować linię regresjii, możemy wykorzystać równieże macierze transponowane i odrowtne. \n",
    "Wyprowadzenie wzoru wymaga zagłębienia się w rachunek całkowy i różniczkowy. Dla uproszczenia możemy skorzystać z następującego wzoru:\n",
    "\n",
    "$b = (X^T \\cdot X)^-1 \\cdot X^ T \\cdot y$\n",
    "\n",
    "Na macierzy X przeprowadzane są operacje transpozycji i inwersji, a także mnożenie macierzy.\n",
    "\n",
    "\n",
    "\n",
    "*Alternatywną metodą notacji dla $m$ i $b$ jest odpowiednio $\\beta_1$ i $\\beta_0$*"
   ]
  },
  {
   "cell_type": "code",
   "execution_count": 22,
   "id": "a1d1998d-01c1-4ed6-9ab5-6e523a102189",
   "metadata": {},
   "outputs": [
    {
     "data": {
      "text/html": [
       "<div>\n",
       "<style scoped>\n",
       "    .dataframe tbody tr th:only-of-type {\n",
       "        vertical-align: middle;\n",
       "    }\n",
       "\n",
       "    .dataframe tbody tr th {\n",
       "        vertical-align: top;\n",
       "    }\n",
       "\n",
       "    .dataframe thead th {\n",
       "        text-align: right;\n",
       "    }\n",
       "</style>\n",
       "<table border=\"1\" class=\"dataframe\">\n",
       "  <thead>\n",
       "    <tr style=\"text-align: right;\">\n",
       "      <th></th>\n",
       "      <th>age</th>\n",
       "      <th>sex</th>\n",
       "      <th>bmi</th>\n",
       "      <th>bp</th>\n",
       "      <th>s1</th>\n",
       "      <th>s2</th>\n",
       "      <th>s3</th>\n",
       "      <th>s4</th>\n",
       "      <th>s5</th>\n",
       "      <th>s6</th>\n",
       "      <th>target</th>\n",
       "    </tr>\n",
       "  </thead>\n",
       "  <tbody>\n",
       "    <tr>\n",
       "      <th>0</th>\n",
       "      <td>0.038076</td>\n",
       "      <td>0.050680</td>\n",
       "      <td>0.061696</td>\n",
       "      <td>0.021872</td>\n",
       "      <td>-0.044223</td>\n",
       "      <td>-0.034821</td>\n",
       "      <td>-0.043401</td>\n",
       "      <td>-0.002592</td>\n",
       "      <td>0.019908</td>\n",
       "      <td>-0.017646</td>\n",
       "      <td>151.0</td>\n",
       "    </tr>\n",
       "    <tr>\n",
       "      <th>1</th>\n",
       "      <td>-0.001882</td>\n",
       "      <td>-0.044642</td>\n",
       "      <td>-0.051474</td>\n",
       "      <td>-0.026328</td>\n",
       "      <td>-0.008449</td>\n",
       "      <td>-0.019163</td>\n",
       "      <td>0.074412</td>\n",
       "      <td>-0.039493</td>\n",
       "      <td>-0.068330</td>\n",
       "      <td>-0.092204</td>\n",
       "      <td>75.0</td>\n",
       "    </tr>\n",
       "    <tr>\n",
       "      <th>2</th>\n",
       "      <td>0.085299</td>\n",
       "      <td>0.050680</td>\n",
       "      <td>0.044451</td>\n",
       "      <td>-0.005671</td>\n",
       "      <td>-0.045599</td>\n",
       "      <td>-0.034194</td>\n",
       "      <td>-0.032356</td>\n",
       "      <td>-0.002592</td>\n",
       "      <td>0.002864</td>\n",
       "      <td>-0.025930</td>\n",
       "      <td>141.0</td>\n",
       "    </tr>\n",
       "    <tr>\n",
       "      <th>3</th>\n",
       "      <td>-0.089063</td>\n",
       "      <td>-0.044642</td>\n",
       "      <td>-0.011595</td>\n",
       "      <td>-0.036656</td>\n",
       "      <td>0.012191</td>\n",
       "      <td>0.024991</td>\n",
       "      <td>-0.036038</td>\n",
       "      <td>0.034309</td>\n",
       "      <td>0.022692</td>\n",
       "      <td>-0.009362</td>\n",
       "      <td>206.0</td>\n",
       "    </tr>\n",
       "    <tr>\n",
       "      <th>4</th>\n",
       "      <td>0.005383</td>\n",
       "      <td>-0.044642</td>\n",
       "      <td>-0.036385</td>\n",
       "      <td>0.021872</td>\n",
       "      <td>0.003935</td>\n",
       "      <td>0.015596</td>\n",
       "      <td>0.008142</td>\n",
       "      <td>-0.002592</td>\n",
       "      <td>-0.031991</td>\n",
       "      <td>-0.046641</td>\n",
       "      <td>135.0</td>\n",
       "    </tr>\n",
       "    <tr>\n",
       "      <th>...</th>\n",
       "      <td>...</td>\n",
       "      <td>...</td>\n",
       "      <td>...</td>\n",
       "      <td>...</td>\n",
       "      <td>...</td>\n",
       "      <td>...</td>\n",
       "      <td>...</td>\n",
       "      <td>...</td>\n",
       "      <td>...</td>\n",
       "      <td>...</td>\n",
       "      <td>...</td>\n",
       "    </tr>\n",
       "    <tr>\n",
       "      <th>437</th>\n",
       "      <td>0.041708</td>\n",
       "      <td>0.050680</td>\n",
       "      <td>0.019662</td>\n",
       "      <td>0.059744</td>\n",
       "      <td>-0.005697</td>\n",
       "      <td>-0.002566</td>\n",
       "      <td>-0.028674</td>\n",
       "      <td>-0.002592</td>\n",
       "      <td>0.031193</td>\n",
       "      <td>0.007207</td>\n",
       "      <td>178.0</td>\n",
       "    </tr>\n",
       "    <tr>\n",
       "      <th>438</th>\n",
       "      <td>-0.005515</td>\n",
       "      <td>0.050680</td>\n",
       "      <td>-0.015906</td>\n",
       "      <td>-0.067642</td>\n",
       "      <td>0.049341</td>\n",
       "      <td>0.079165</td>\n",
       "      <td>-0.028674</td>\n",
       "      <td>0.034309</td>\n",
       "      <td>-0.018118</td>\n",
       "      <td>0.044485</td>\n",
       "      <td>104.0</td>\n",
       "    </tr>\n",
       "    <tr>\n",
       "      <th>439</th>\n",
       "      <td>0.041708</td>\n",
       "      <td>0.050680</td>\n",
       "      <td>-0.015906</td>\n",
       "      <td>0.017282</td>\n",
       "      <td>-0.037344</td>\n",
       "      <td>-0.013840</td>\n",
       "      <td>-0.024993</td>\n",
       "      <td>-0.011080</td>\n",
       "      <td>-0.046879</td>\n",
       "      <td>0.015491</td>\n",
       "      <td>132.0</td>\n",
       "    </tr>\n",
       "    <tr>\n",
       "      <th>440</th>\n",
       "      <td>-0.045472</td>\n",
       "      <td>-0.044642</td>\n",
       "      <td>0.039062</td>\n",
       "      <td>0.001215</td>\n",
       "      <td>0.016318</td>\n",
       "      <td>0.015283</td>\n",
       "      <td>-0.028674</td>\n",
       "      <td>0.026560</td>\n",
       "      <td>0.044528</td>\n",
       "      <td>-0.025930</td>\n",
       "      <td>220.0</td>\n",
       "    </tr>\n",
       "    <tr>\n",
       "      <th>441</th>\n",
       "      <td>-0.045472</td>\n",
       "      <td>-0.044642</td>\n",
       "      <td>-0.073030</td>\n",
       "      <td>-0.081414</td>\n",
       "      <td>0.083740</td>\n",
       "      <td>0.027809</td>\n",
       "      <td>0.173816</td>\n",
       "      <td>-0.039493</td>\n",
       "      <td>-0.004220</td>\n",
       "      <td>0.003064</td>\n",
       "      <td>57.0</td>\n",
       "    </tr>\n",
       "  </tbody>\n",
       "</table>\n",
       "<p>442 rows × 11 columns</p>\n",
       "</div>"
      ],
      "text/plain": [
       "          age       sex       bmi        bp        s1        s2        s3  \\\n",
       "0    0.038076  0.050680  0.061696  0.021872 -0.044223 -0.034821 -0.043401   \n",
       "1   -0.001882 -0.044642 -0.051474 -0.026328 -0.008449 -0.019163  0.074412   \n",
       "2    0.085299  0.050680  0.044451 -0.005671 -0.045599 -0.034194 -0.032356   \n",
       "3   -0.089063 -0.044642 -0.011595 -0.036656  0.012191  0.024991 -0.036038   \n",
       "4    0.005383 -0.044642 -0.036385  0.021872  0.003935  0.015596  0.008142   \n",
       "..        ...       ...       ...       ...       ...       ...       ...   \n",
       "437  0.041708  0.050680  0.019662  0.059744 -0.005697 -0.002566 -0.028674   \n",
       "438 -0.005515  0.050680 -0.015906 -0.067642  0.049341  0.079165 -0.028674   \n",
       "439  0.041708  0.050680 -0.015906  0.017282 -0.037344 -0.013840 -0.024993   \n",
       "440 -0.045472 -0.044642  0.039062  0.001215  0.016318  0.015283 -0.028674   \n",
       "441 -0.045472 -0.044642 -0.073030 -0.081414  0.083740  0.027809  0.173816   \n",
       "\n",
       "           s4        s5        s6  target  \n",
       "0   -0.002592  0.019908 -0.017646   151.0  \n",
       "1   -0.039493 -0.068330 -0.092204    75.0  \n",
       "2   -0.002592  0.002864 -0.025930   141.0  \n",
       "3    0.034309  0.022692 -0.009362   206.0  \n",
       "4   -0.002592 -0.031991 -0.046641   135.0  \n",
       "..        ...       ...       ...     ...  \n",
       "437 -0.002592  0.031193  0.007207   178.0  \n",
       "438  0.034309 -0.018118  0.044485   104.0  \n",
       "439 -0.011080 -0.046879  0.015491   132.0  \n",
       "440  0.026560  0.044528 -0.025930   220.0  \n",
       "441 -0.039493 -0.004220  0.003064    57.0  \n",
       "\n",
       "[442 rows x 11 columns]"
      ]
     },
     "execution_count": 22,
     "metadata": {},
     "output_type": "execute_result"
    }
   ],
   "source": [
    "# Ponownie korzystamy z naszego df\n",
    "df"
   ]
  },
  {
   "cell_type": "markdown",
   "id": "d107afb5-9357-4906-9e07-c6c9eab7a250",
   "metadata": {},
   "source": [
    "### Obliczanie beta_0(wyraz wolny) i beta_1 (nachylenie) z pomocą macierzy odrowtnych i transponowanych"
   ]
  },
  {
   "cell_type": "code",
   "execution_count": 23,
   "id": "bcfd1545-d535-4c86-95de-3076b83d7568",
   "metadata": {},
   "outputs": [
    {
     "data": {
      "text/plain": [
       "(2, 1)"
      ]
     },
     "execution_count": 23,
     "metadata": {},
     "output_type": "execute_result"
    }
   ],
   "source": [
    "\n",
    "# Wyodrebniamy zmienne wejsciowe\n",
    "X = df[['bmi']][:2].values\n",
    "np.shape(X)"
   ]
  },
  {
   "cell_type": "code",
   "execution_count": 24,
   "id": "5cde5ae8-a060-4e1c-951c-a51c20b520c2",
   "metadata": {},
   "outputs": [
    {
     "data": {
      "text/plain": [
       "array([[ 0.06169621,  1.        ],\n",
       "       [-0.05147406,  1.        ]])"
      ]
     },
     "execution_count": 24,
     "metadata": {},
     "output_type": "execute_result"
    }
   ],
   "source": [
    "# Dodajemy kolumne o wartosci 1 - wyraz wolny (b)\n",
    "X_1 = np.hstack([X, np.ones((X.shape[0], 1))])\n",
    "X_1"
   ]
  },
  {
   "cell_type": "code",
   "execution_count": 25,
   "id": "bae3b06e-5954-47e1-9fd4-c96c2c87ce06",
   "metadata": {},
   "outputs": [
    {
     "data": {
      "text/plain": [
       "(2, 2)"
      ]
     },
     "execution_count": 25,
     "metadata": {},
     "output_type": "execute_result"
    }
   ],
   "source": [
    "np.shape(X_1)"
   ]
  },
  {
   "cell_type": "code",
   "execution_count": 26,
   "id": "959ac596-0a12-4be0-b6a4-e697988ac64c",
   "metadata": {},
   "outputs": [
    {
     "data": {
      "text/plain": [
       "(2,)"
      ]
     },
     "execution_count": 26,
     "metadata": {},
     "output_type": "execute_result"
    }
   ],
   "source": [
    "# Wyodrebiamy kolumne wyjsciowa\n",
    "y = df.values[:2, -1]\n",
    "np.shape(y)"
   ]
  },
  {
   "cell_type": "code",
   "execution_count": 27,
   "id": "8f9211a8-4d70-4b74-aefe-b1e3af5dafa7",
   "metadata": {},
   "outputs": [
    {
     "data": {
      "text/plain": [
       "array([[1334.27271131, -662.71823409],\n",
       "       [  68.68043525,   40.88720103]])"
      ]
     },
     "execution_count": 27,
     "metadata": {},
     "output_type": "execute_result"
    }
   ],
   "source": [
    "# Obliczamy współczynnik dla nachylenia (m) i wyrazu wolnego (b)\n",
    "b = inv(X_1.transpose() @ X_1) @ (X_1.transpose() * y)\n",
    "b"
   ]
  },
  {
   "cell_type": "code",
   "execution_count": 28,
   "id": "75ca071d-984c-4a63-8f38-fbae294b0936",
   "metadata": {},
   "outputs": [
    {
     "data": {
      "text/plain": [
       "array([[ 1.51000000e+02,  2.84217094e-14],\n",
       "       [-2.84217094e-14,  7.50000000e+01]])"
      ]
     },
     "execution_count": 28,
     "metadata": {},
     "output_type": "execute_result"
    }
   ],
   "source": [
    "# Przewidywanie wartosci y\n",
    "y_predicted = X_1.dot(b)\n",
    "y_predicted"
   ]
  },
  {
   "cell_type": "markdown",
   "id": "2604b925-a2f2-497e-9efa-cd1ca7bd7267",
   "metadata": {},
   "source": [
    "### Obliczanie wyrazu wolnego (beta_0) i nachylenia (beta_1) z pomocą rozkładu macierzy QR"
   ]
  },
  {
   "cell_type": "markdown",
   "id": "ca19de60-0878-4af0-857e-9769d8d3463a",
   "metadata": {},
   "source": [
    "W przypadku, gdy danych jest więcej, a regresja dotyczy więcej niż jednej zmiennej wejściowej, może zachodzić ryzyko błędu w oblczeniach i niestabilnych wyników. W takim przypadku przydaje się rozkład macierzy. \n",
    "\n",
    "W przypadku rozkładu macierzy bierzemy macierz, dołączamy do niej kolumnę jedynek (wyraz wolny), a następnie rozkładamy ją na macierze Q i R.\n",
    "\n",
    "$X = Q \\cdot R$\n",
    "\n",
    "Z macierzy b (powyżej) możemy obliczyć wartości współczynników beta ($\\beta_1 (m) \\beta_0 (b)$), w następujący sposób:\n",
    "\n",
    "$b = R^-1 \\cdot Q^T \\cdot y$\n",
    "\n",
    "Poniżej przykład jak użyć powyższego wzoru, aby przeprowadzić regresję liniową:"
   ]
  },
  {
   "cell_type": "code",
   "execution_count": 91,
   "id": "6c4a16bd-ebe8-4180-9732-d32a126fa40c",
   "metadata": {},
   "outputs": [],
   "source": [
    "X = df.values[:2,:1]"
   ]
  },
  {
   "cell_type": "code",
   "execution_count": 92,
   "id": "d6e0c126-2f9a-4b48-bd17-5b98f03dba0c",
   "metadata": {},
   "outputs": [
    {
     "data": {
      "text/plain": [
       "(2, 1)"
      ]
     },
     "execution_count": 92,
     "metadata": {},
     "output_type": "execute_result"
    }
   ],
   "source": [
    "np.shape(X)"
   ]
  },
  {
   "cell_type": "code",
   "execution_count": 93,
   "id": "c4dd92d6-9980-447d-9a6e-8e874910a54a",
   "metadata": {},
   "outputs": [
    {
     "data": {
      "text/plain": [
       "array([[ 0.03807591, -0.00188202],\n",
       "       [ 1.        ,  1.        ]])"
      ]
     },
     "execution_count": 93,
     "metadata": {},
     "output_type": "execute_result"
    }
   ],
   "source": [
    "# dodajemy kolumne o wartosci 1, aby wygenerowac wyraz wolny\n",
    "X_1 = np.hstack([X, np.ones((X.shape[0], 1))]).T\n",
    "X_1"
   ]
  },
  {
   "cell_type": "code",
   "execution_count": 94,
   "id": "83724fcc-3aea-44da-98d2-3f1a201bfe33",
   "metadata": {},
   "outputs": [
    {
     "data": {
      "text/plain": [
       "(2, 2)"
      ]
     },
     "execution_count": 94,
     "metadata": {},
     "output_type": "execute_result"
    }
   ],
   "source": [
    "np.shape(X_1)"
   ]
  },
  {
   "cell_type": "code",
   "execution_count": 95,
   "id": "c7c6057d-a69d-4206-ac2a-9a072ca7aeda",
   "metadata": {},
   "outputs": [
    {
     "data": {
      "text/plain": [
       "array([151.,  75.])"
      ]
     },
     "execution_count": 95,
     "metadata": {},
     "output_type": "execute_result"
    }
   ],
   "source": [
    "# wyodrebninie kolumny wyjsciowej\n",
    "y = df.values[:2, -1]\n",
    "y"
   ]
  },
  {
   "cell_type": "code",
   "execution_count": 96,
   "id": "eb84e098-603e-4319-b4e4-31773a3677ab",
   "metadata": {},
   "outputs": [
    {
     "data": {
      "text/plain": [
       "(2,)"
      ]
     },
     "execution_count": 96,
     "metadata": {},
     "output_type": "execute_result"
    }
   ],
   "source": [
    "np.shape(y)"
   ]
  },
  {
   "cell_type": "code",
   "execution_count": 97,
   "id": "5831f66a-7097-4166-859f-584c88f823cd",
   "metadata": {},
   "outputs": [
    {
     "data": {
      "text/plain": [
       "array([ 3782.50769907, -3707.50769907])"
      ]
     },
     "execution_count": 97,
     "metadata": {},
     "output_type": "execute_result"
    }
   ],
   "source": [
    "# obliczenie nachylenia i wyrazu wolnego z pomoca rozkladu QR\n",
    "Q, R = qr(X_1)\n",
    "b = inv(R).dot(Q.T).dot(y)\n",
    "b"
   ]
  },
  {
   "cell_type": "markdown",
   "id": "9c2be584-bb53-411e-8c45-e0cd0d01979f",
   "metadata": {},
   "source": [
    "Rozkład QR jest często wykorzystywany do regresji liniowej przez biblioteki naukowe, ze względu na to, że dobrze radzi sobie z dużą ilością danych. Komputery mają ograniczoną liczbę miejsc dziesiętnych, stąd muszą przybliżać wartości, co może pogarszać jakość algorytmu poprzez błędy w przybliżeniach. "
   ]
  }
 ],
 "metadata": {
  "kernelspec": {
   "display_name": "Python 3 (ipykernel)",
   "language": "python",
   "name": "python3"
  },
  "language_info": {
   "codemirror_mode": {
    "name": "ipython",
    "version": 3
   },
   "file_extension": ".py",
   "mimetype": "text/x-python",
   "name": "python",
   "nbconvert_exporter": "python",
   "pygments_lexer": "ipython3",
   "version": "3.9.7"
  }
 },
 "nbformat": 4,
 "nbformat_minor": 5
}
