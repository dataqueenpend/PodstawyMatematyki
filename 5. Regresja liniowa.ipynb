{
 "cells": [
  {
   "cell_type": "markdown",
   "id": "75ddaf2c-ebe9-4804-b96d-e00def353da2",
   "metadata": {},
   "source": [
    "# Regresja liniowa\n",
    "\n",
    "Regresja jest podstawową i jednocześnie najbardziej popularną techniką w analityce. Służy ona wykazaniu/zmierzeniu, czy istnieje relacja pomiędzy dwiema lub wieloma zmiennymi. W ramach regresji staramy się najlepiej dopasować linię, do obserwowanych danych, aby zmniejszyć błąd pomiędzy rzeczywistym, a przewidywanym punktem danych. \n",
    "\n",
    "Regresja jest znana od ponad dwustu lat. I sama w sobie stanowi podstawę dla wielu innych technik machine learningowych, jak sieci neuronowe, czy regresja logistyczna. \n",
    "\n",
    "Regresja jest fundamentem dla wielu algorytmów z rodziny nadzorowanego uczenia maszynowego."
   ]
  },
  {
   "cell_type": "markdown",
   "id": "c1e3fd2d-14eb-4f94-8bfc-6661c6c84e0b",
   "metadata": {},
   "source": [
    "## Podstawowa regresja liniowa\n",
    "\n",
    "Dlaczego regresj liniowa jest przydatna?\n",
    "\n",
    "Pozwala przewidywać dane, których wcześniej nie zaobserwowaliśmy. Jeśli wykreślimy (obliczymy) regresję liniową na podstawie jakiegoś zbioru danych, to gdy pojawi się nowy punkt danych, możemy na jej podstawie oszacować, jaką wartość będzie mieć w zmiennej zależnej (y). \n",
    "\n",
    "Dodatkowo, dzięki regresji, możemy przyjrzeć się, czy pomiędzy parami zmiennych wsystępują korelacje, a nawet zweryfikować występowanie związku przyczynowo-skutkowego. \n",
    "\n",
    "## Niebezpicezństwa regresji liniowej\n",
    "\n",
    "To, o czym warto pamiętać (oprócz oczywistości, że regresja na prawdziwych danych prawie nigdy nie będzie pozwalała na ułożenie danych równo na linii), to również fakt, że nie powinniśmy przewidywać na nowych danych (np. x>8), które wykraczają poza zakres danych wejściowych (np. 2 do 8). \n",
    "\n",
    "Aby regresja liniowa, była miarodajna, konieczne jest również sprawdzanie, a jaki sposób zostały pozyskane dane, czy np. próba nie jest jakoś obciążona (błąd autoselekcji). "
   ]
  },
  {
   "cell_type": "markdown",
   "id": "963c5edd-e845-4e72-94cb-792740318c50",
   "metadata": {},
   "source": [
    "## Budowa regresji liniowej z sklearn"
   ]
  },
  {
   "cell_type": "code",
   "execution_count": 3,
   "id": "b07ad6a2-5801-4162-abbd-d3fca00b5741",
   "metadata": {},
   "outputs": [],
   "source": [
    "import pandas as pd\n",
    "import matplotlib.pyplot as plt\n",
    "from sklearn.linear_model import LinearRegression\n",
    "from sklearn.datasets import load_diabetes"
   ]
  },
  {
   "cell_type": "code",
   "execution_count": 5,
   "id": "2e1869e0-4052-43b6-a5ed-293c4da4be8d",
   "metadata": {},
   "outputs": [
    {
     "data": {
      "text/plain": [
       "dict_keys(['data', 'target', 'frame', 'DESCR', 'feature_names', 'data_filename', 'target_filename'])"
      ]
     },
     "execution_count": 5,
     "metadata": {},
     "output_type": "execute_result"
    }
   ],
   "source": [
    "# dane\n",
    "data = load_diabetes()\n",
    "\n",
    "data.keys()"
   ]
  },
  {
   "cell_type": "code",
   "execution_count": 6,
   "id": "7e8067b8-7454-4631-9022-bc5a19492e86",
   "metadata": {},
   "outputs": [
    {
     "data": {
      "text/plain": [
       "sklearn.utils.Bunch"
      ]
     },
     "execution_count": 6,
     "metadata": {},
     "output_type": "execute_result"
    }
   ],
   "source": [
    "type(data)"
   ]
  },
  {
   "cell_type": "code",
   "execution_count": 7,
   "id": "99ae0065-f4ea-437d-b1fe-15f7c85a68d4",
   "metadata": {},
   "outputs": [],
   "source": [
    "df = pd.DataFrame(data.data, columns=data.feature_names)\n",
    "df['target'] = data.target"
   ]
  },
  {
   "cell_type": "code",
   "execution_count": 8,
   "id": "d968ab1f-28f1-43bc-b8cd-8475d93db2c8",
   "metadata": {},
   "outputs": [
    {
     "data": {
      "text/html": [
       "<div>\n",
       "<style scoped>\n",
       "    .dataframe tbody tr th:only-of-type {\n",
       "        vertical-align: middle;\n",
       "    }\n",
       "\n",
       "    .dataframe tbody tr th {\n",
       "        vertical-align: top;\n",
       "    }\n",
       "\n",
       "    .dataframe thead th {\n",
       "        text-align: right;\n",
       "    }\n",
       "</style>\n",
       "<table border=\"1\" class=\"dataframe\">\n",
       "  <thead>\n",
       "    <tr style=\"text-align: right;\">\n",
       "      <th></th>\n",
       "      <th>age</th>\n",
       "      <th>sex</th>\n",
       "      <th>bmi</th>\n",
       "      <th>bp</th>\n",
       "      <th>s1</th>\n",
       "      <th>s2</th>\n",
       "      <th>s3</th>\n",
       "      <th>s4</th>\n",
       "      <th>s5</th>\n",
       "      <th>s6</th>\n",
       "      <th>target</th>\n",
       "    </tr>\n",
       "  </thead>\n",
       "  <tbody>\n",
       "    <tr>\n",
       "      <th>0</th>\n",
       "      <td>0.038076</td>\n",
       "      <td>0.050680</td>\n",
       "      <td>0.061696</td>\n",
       "      <td>0.021872</td>\n",
       "      <td>-0.044223</td>\n",
       "      <td>-0.034821</td>\n",
       "      <td>-0.043401</td>\n",
       "      <td>-0.002592</td>\n",
       "      <td>0.019908</td>\n",
       "      <td>-0.017646</td>\n",
       "      <td>151.0</td>\n",
       "    </tr>\n",
       "    <tr>\n",
       "      <th>1</th>\n",
       "      <td>-0.001882</td>\n",
       "      <td>-0.044642</td>\n",
       "      <td>-0.051474</td>\n",
       "      <td>-0.026328</td>\n",
       "      <td>-0.008449</td>\n",
       "      <td>-0.019163</td>\n",
       "      <td>0.074412</td>\n",
       "      <td>-0.039493</td>\n",
       "      <td>-0.068330</td>\n",
       "      <td>-0.092204</td>\n",
       "      <td>75.0</td>\n",
       "    </tr>\n",
       "    <tr>\n",
       "      <th>2</th>\n",
       "      <td>0.085299</td>\n",
       "      <td>0.050680</td>\n",
       "      <td>0.044451</td>\n",
       "      <td>-0.005671</td>\n",
       "      <td>-0.045599</td>\n",
       "      <td>-0.034194</td>\n",
       "      <td>-0.032356</td>\n",
       "      <td>-0.002592</td>\n",
       "      <td>0.002864</td>\n",
       "      <td>-0.025930</td>\n",
       "      <td>141.0</td>\n",
       "    </tr>\n",
       "    <tr>\n",
       "      <th>3</th>\n",
       "      <td>-0.089063</td>\n",
       "      <td>-0.044642</td>\n",
       "      <td>-0.011595</td>\n",
       "      <td>-0.036656</td>\n",
       "      <td>0.012191</td>\n",
       "      <td>0.024991</td>\n",
       "      <td>-0.036038</td>\n",
       "      <td>0.034309</td>\n",
       "      <td>0.022692</td>\n",
       "      <td>-0.009362</td>\n",
       "      <td>206.0</td>\n",
       "    </tr>\n",
       "    <tr>\n",
       "      <th>4</th>\n",
       "      <td>0.005383</td>\n",
       "      <td>-0.044642</td>\n",
       "      <td>-0.036385</td>\n",
       "      <td>0.021872</td>\n",
       "      <td>0.003935</td>\n",
       "      <td>0.015596</td>\n",
       "      <td>0.008142</td>\n",
       "      <td>-0.002592</td>\n",
       "      <td>-0.031991</td>\n",
       "      <td>-0.046641</td>\n",
       "      <td>135.0</td>\n",
       "    </tr>\n",
       "  </tbody>\n",
       "</table>\n",
       "</div>"
      ],
      "text/plain": [
       "        age       sex       bmi        bp        s1        s2        s3  \\\n",
       "0  0.038076  0.050680  0.061696  0.021872 -0.044223 -0.034821 -0.043401   \n",
       "1 -0.001882 -0.044642 -0.051474 -0.026328 -0.008449 -0.019163  0.074412   \n",
       "2  0.085299  0.050680  0.044451 -0.005671 -0.045599 -0.034194 -0.032356   \n",
       "3 -0.089063 -0.044642 -0.011595 -0.036656  0.012191  0.024991 -0.036038   \n",
       "4  0.005383 -0.044642 -0.036385  0.021872  0.003935  0.015596  0.008142   \n",
       "\n",
       "         s4        s5        s6  target  \n",
       "0 -0.002592  0.019908 -0.017646   151.0  \n",
       "1 -0.039493 -0.068330 -0.092204    75.0  \n",
       "2 -0.002592  0.002864 -0.025930   141.0  \n",
       "3  0.034309  0.022692 -0.009362   206.0  \n",
       "4 -0.002592 -0.031991 -0.046641   135.0  "
      ]
     },
     "execution_count": 8,
     "metadata": {},
     "output_type": "execute_result"
    }
   ],
   "source": [
    "df.head()"
   ]
  },
  {
   "cell_type": "code",
   "execution_count": 11,
   "id": "8b260b26-977c-4c27-a432-afa4e3226019",
   "metadata": {},
   "outputs": [],
   "source": [
    "# podzial zmienna zalezna, i zmienne niezalezne\n",
    "# konwersja do arrayów\n",
    "X = df.values[:, :-1] #wszystkie wiersze oprocz ostatniej kolumny\n",
    "y = df.values[:, -1] #tylko ostatni wiersz"
   ]
  },
  {
   "cell_type": "code",
   "execution_count": 12,
   "id": "7b51f19b-0eba-492d-929d-c2443dcce4ea",
   "metadata": {},
   "outputs": [],
   "source": [
    "# dopasowujemy linię regresji\n",
    "dop = LinearRegression(). fit(X,y)\n",
    "m = dop.coef_.flatten()\n",
    "b = dop.intercept_.flatten()"
   ]
  },
  {
   "cell_type": "code",
   "execution_count": 14,
   "id": "2ca628aa-1f9e-4d17-8f38-ae1c8419b483",
   "metadata": {},
   "outputs": [
    {
     "name": "stdout",
     "output_type": "stream",
     "text": [
      "m= [ -10.01219782 -239.81908937  519.83978679  324.39042769 -792.18416163\n",
      "  476.74583782  101.04457032  177.06417623  751.27932109   67.62538639] \n",
      "b= [152.13348416]\n"
     ]
    }
   ],
   "source": [
    "print(f\"\"\"m= {m} \n",
    "b= {b}\"\"\")"
   ]
  }
 ],
 "metadata": {
  "kernelspec": {
   "display_name": "Python 3 (ipykernel)",
   "language": "python",
   "name": "python3"
  },
  "language_info": {
   "codemirror_mode": {
    "name": "ipython",
    "version": 3
   },
   "file_extension": ".py",
   "mimetype": "text/x-python",
   "name": "python",
   "nbconvert_exporter": "python",
   "pygments_lexer": "ipython3",
   "version": "3.9.7"
  }
 },
 "nbformat": 4,
 "nbformat_minor": 5
}
