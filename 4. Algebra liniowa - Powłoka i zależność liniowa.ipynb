{
 "cells": [
  {
   "cell_type": "markdown",
   "id": "50064fcc-08f5-4e7c-b939-bbf686959165",
   "metadata": {},
   "source": [
    "# Algebra liniowa\n",
    "## Powłoka i zależność liniowa\n",
    "\n",
    "**Czym jest powłoka liniowa?**\n",
    "To przestrzeń możliwych do utworzenia wektorów, którą możemy wygenerować przy pomocy prostych operacji na wektorach - dodawania, skalowania (mnożenia). W przypadku, gdy wektory mają różne kierunki (czyli są liniowo niezależne), to ich powłoka liniowa jest nieograniczona.\n",
    "\n",
    " "
   ]
  },
  {
   "cell_type": "markdown",
   "id": "044ec538-687d-46c7-bb36-26974813ebd8",
   "metadata": {},
   "source": [
    "**Zależność liniowa - kiedy powłoka liniowa jest ograniczona?**\n",
    "Zgodnie z tym, co napisałam powyżej, powłoka liniowa będzie ograniczona jeśli kierunki wektorów będą takie same.  Ten sam kierunek, oznacza, że wektory znajdują się na tej samej linii i ani przez dodawanie, czy skalowanie, nie wyjdą poza tę linię. A więc mamy do czynienia z wektorami liniowo zależnymi."
   ]
  },
  {
   "cell_type": "markdown",
   "id": "92051aac-6700-4c0e-948d-7a8afaf6810c",
   "metadata": {},
   "source": [
    "**Dlaczego interesuje nas, czy wektory są zależne/niezależne liniowo?**\n",
    "Jeśli wektory są zależne liniowo, może to powodować, że zadania, które mamy z nimi rozwiązać, mogą być znacznie trudniejsze, a nawet niemożliwe do rozwiązania (znikające zmienne).\n",
    "\n",
    "Istnieją narzędzia do tego, aby w prosty sposób identyfikować, czy wektory są zależne liniowe - np. wyznacznik."
   ]
  }
 ],
 "metadata": {
  "kernelspec": {
   "display_name": "Python 3 (ipykernel)",
   "language": "python",
   "name": "python3"
  },
  "language_info": {
   "codemirror_mode": {
    "name": "ipython",
    "version": 3
   },
   "file_extension": ".py",
   "mimetype": "text/x-python",
   "name": "python",
   "nbconvert_exporter": "python",
   "pygments_lexer": "ipython3",
   "version": "3.9.7"
  }
 },
 "nbformat": 4,
 "nbformat_minor": 5
}
