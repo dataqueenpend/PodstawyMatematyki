{
 "cells": [
  {
   "cell_type": "markdown",
   "id": "50064fcc-08f5-4e7c-b939-bbf686959165",
   "metadata": {},
   "source": [
    "# Algebra liniowa\n",
    "## Powłoka i zależność liniowa\n",
    "\n",
    "**Czym jest powłoka liniowa?**\n",
    "To przestrzeń możliwych do utworzenia wektorów, którą możemy wygenerować przy pomocy prostych operacji na wektorach - dodawania, skalowania (mnożenia). W przypadku, gdy wektory mają różne kierunki (czyli są liniowo niezależne), to ich powłoka liniowa jest nieograniczona.\n",
    "\n",
    " "
   ]
  },
  {
   "cell_type": "markdown",
   "id": "044ec538-687d-46c7-bb36-26974813ebd8",
   "metadata": {},
   "source": [
    "**Zależność liniowa - kiedy powłoka liniowa jest ograniczona?**\n",
    "Zgodnie z tym, co napisałam powyżej, powłoka liniowa będzie ograniczona jeśli kierunki wektorów będą takie same.  Ten sam kierunek, oznacza, że wektory znajdują się na tej samej linii i ani przez dodawanie, czy skalowanie, nie wyjdą poza tę linię. A więc mamy do czynienia z wektorami liniowo zależnymi."
   ]
  },
  {
   "cell_type": "markdown",
   "id": "92051aac-6700-4c0e-948d-7a8afaf6810c",
   "metadata": {},
   "source": [
    "**Dlaczego interesuje nas, czy wektory są zależne/niezależne liniowo?**\n",
    "Jeśli wektory są zależne liniowo, może to powodować, że zadania, które mamy z nimi rozwiązać, mogą być znacznie trudniejsze, a nawet niemożliwe do rozwiązania (znikające zmienne).\n",
    "\n",
    "Istnieją narzędzia do tego, aby w prosty sposób identyfikować, czy wektory są zależne liniowe - np. wyznacznik."
   ]
  },
  {
   "cell_type": "markdown",
   "id": "87d477b2-0260-4548-b7a9-c24eb0adfec9",
   "metadata": {},
   "source": [
    "## Przekształcenia liniowe\n",
    "\n",
    "O przekształceniach liiowych mówimy, gdy dodajemy, skalujemy co najmniej dwa wektory. Nowy wektor utworzony w wyniku przekształceń może wskazywać w dowolnym kierunku i mieć dowolną długość - o ile wektory wybrane do przekształcenia nie są od siebie zależne liniowo."
   ]
  },
  {
   "cell_type": "markdown",
   "id": "fbce408c-875c-47cb-97d8-0cec88ddade2",
   "metadata": {},
   "source": [
    "### Wektory bazowe\n",
    "\n",
    "Wektory bazowe mogą przyjmować różne długości i kierunki, jednak najczęściej mają one długość 1 i przyjmują prostopadłe kierunki dodatnie. Służą one do opisywania przestrzeni wektorowej. "
   ]
  },
  {
   "cell_type": "code",
   "execution_count": 16,
   "id": "b4fb4a2a-5fb1-4dda-9513-0b6173f984a4",
   "metadata": {},
   "outputs": [
    {
     "data": {
      "image/png": "[encoded data removed]",
      "text/plain": [
       "<Figure size 432x288 with 1 Axes>"
      ]
     },
     "metadata": {
      "needs_background": "light"
     },
     "output_type": "display_data"
    }
   ],
   "source": [
    "import numpy as np\n",
    "import matplotlib.pyplot as plt\n",
    "\n",
    "# Tworzenie wektora i\n",
    "i = np.array([1, 0])\n",
    "\n",
    "# Tworzenie wektora j\n",
    "j = np.array([0, 1])\n",
    "\n",
    "# Normalizacja wektorów do długości 1\n",
    "i = i / np.linalg.norm(i)\n",
    "j = j / np.linalg.norm(j)\n",
    "\n",
    "# Tworzenie wykresu\n",
    "plt.quiver(0, 0, i[0], i[1], angles='xy', scale_units='xy', scale=1, color='r', label='i [1,0]')\n",
    "plt.quiver(0, 0, j[0], j[1], angles='xy', scale_units='xy', scale=1, color='b', label='j [0,1]')\n",
    "\n",
    "# Konfiguracja osi\n",
    "plt.xlim(-1.0, 1.5)\n",
    "plt.ylim(-1.0, 1.5)\n",
    "plt.xlabel('X')\n",
    "plt.ylabel('Y')\n",
    "plt.grid(True)\n",
    "plt.legend()\n",
    "\n",
    "# Oznaczenie osi X i Y\n",
    "plt.axhline(0, color='black', linewidth=1.5)\n",
    "plt.axvline(0, color='black', linewidth=1.5)\n",
    "\n",
    "# Wyświetlanie wykresu\n",
    "plt.show()\n"
   ]
  },
  {
   "cell_type": "markdown",
   "id": "9ca02ffc-81fb-4806-9470-3b5cb6cb69e2",
   "metadata": {},
   "source": [
    "Bazę wektorową możemy zapisać w formie macierzy. Gdzie pierwsza kolumna (w macierzy) stanowi wektor i, a druga wektor j. \n",
    "\n",
    "W przypadku pythona jako kolumnę rozpoznajemy wartości zawarte w liście po przecinku. "
   ]
  },
  {
   "cell_type": "code",
   "execution_count": 5,
   "id": "722735c7-ca12-416a-b40c-96873d8c1599",
   "metadata": {},
   "outputs": [
    {
     "data": {
      "text/plain": [
       "array([1., 0.])"
      ]
     },
     "execution_count": 5,
     "metadata": {},
     "output_type": "execute_result"
    }
   ],
   "source": [
    "# Wektor i\n",
    "i"
   ]
  },
  {
   "cell_type": "code",
   "execution_count": 6,
   "id": "f806cc45-0e7e-4b7e-962a-638a0ccf14ee",
   "metadata": {},
   "outputs": [
    {
     "data": {
      "text/plain": [
       "array([0., 1.])"
      ]
     },
     "execution_count": 6,
     "metadata": {},
     "output_type": "execute_result"
    }
   ],
   "source": [
    "# Wektor j\n",
    "j"
   ]
  },
  {
   "cell_type": "code",
   "execution_count": 8,
   "id": "692faa1f-00a9-45ce-9fc0-3da384f8a5ed",
   "metadata": {},
   "outputs": [
    {
     "data": {
      "text/plain": [
       "array([[1., 0.],\n",
       "       [0., 1.]])"
      ]
     },
     "execution_count": 8,
     "metadata": {},
     "output_type": "execute_result"
    }
   ],
   "source": [
    "# Baza wektorowa w formie macierzy\n",
    "np.array([i,j])"
   ]
  },
  {
   "cell_type": "markdown",
   "id": "47a8991f-2b43-4c7c-a85e-99b69faefe89",
   "metadata": {},
   "source": [
    "Macierz może zawierać wiele wektorów (jak na przykład i i j). Może mieć wiele kolumn i wierzy. Matryca jest bardzo dobrym sposobem na gromadzenie danych. \n",
    "\n",
    "Dodajmy wektory i i j do siebie i zobaczmy wektor wynikowy v. "
   ]
  },
  {
   "cell_type": "code",
   "execution_count": 17,
   "id": "8bffd7a6-b446-4529-bc92-9295bf39ad53",
   "metadata": {},
   "outputs": [
    {
     "data": {
      "image/png": "[encoded data removed]",
      "text/plain": [
       "<Figure size 432x288 with 1 Axes>"
      ]
     },
     "metadata": {
      "needs_background": "light"
     },
     "output_type": "display_data"
    }
   ],
   "source": [
    "\n",
    "# Wektor wynikowy v - utworzony poprzez dodanie wektorow\n",
    "v = i + j\n",
    "\n",
    "# Tworzenie wykresu\n",
    "plt.quiver(0, 0, i[0], i[1], angles='xy', scale_units='xy', scale=1, color='r', label='i [1,0]')\n",
    "plt.quiver(0, 0, j[0], j[1], angles='xy', scale_units='xy', scale=1, color='b', label='j [0,1]')\n",
    "plt.quiver(0, 0, v[0], v[1], angles='xy', scale_units='xy', scale=1, color='g', label='v [1,1]')\n",
    "\n",
    "# Konfiguracja osi\n",
    "plt.xlim(-1.0, 1.5)\n",
    "plt.ylim(-1.0, 1.5)\n",
    "plt.xlabel('X')\n",
    "plt.ylabel('Y')\n",
    "plt.grid(True)\n",
    "plt.legend()\n",
    "\n",
    "# Oznaczenie osi X i Y\n",
    "plt.axhline(0, color='black', linewidth=1.5)\n",
    "plt.axvline(0, color='black', linewidth=1.5)\n",
    "\n",
    "# Wyświetlanie wykresu\n",
    "plt.show()\n"
   ]
  },
  {
   "cell_type": "markdown",
   "id": "e4b7466c-7c30-48c9-a2c1-9de022ad2382",
   "metadata": {},
   "source": [
    "Sprawdźmy co się stanie z wektorem v, jeśli i wydłużymy trzykrotnie a j dwukrotnie. (skalowanie)"
   ]
  },
  {
   "cell_type": "code",
   "execution_count": 18,
   "id": "e81d532e-6ede-49e3-9727-50ac305a7b02",
   "metadata": {},
   "outputs": [
    {
     "data": {
      "image/png": "[encoded data removed]",
      "text/plain": [
       "<Figure size 432x288 with 1 Axes>"
      ]
     },
     "metadata": {
      "needs_background": "light"
     },
     "output_type": "display_data"
    }
   ],
   "source": [
    "i = 3*i\n",
    "j = 2*j\n",
    "# Wektor wynikowy v - utworzony poprzez dodanie wektorow\n",
    "v = i + j\n",
    "\n",
    "# Tworzenie wykresu\n",
    "plt.quiver(0, 0, i[0], i[1], angles='xy', scale_units='xy', scale=1, color='r', label='i')\n",
    "plt.quiver(0, 0, j[0], j[1], angles='xy', scale_units='xy', scale=1, color='b', label='j')\n",
    "plt.quiver(0, 0, v[0], v[1], angles='xy', scale_units='xy', scale=1, color='g', label='v')\n",
    "\n",
    "# Konfiguracja osi\n",
    "plt.xlim(-1.0, 4)\n",
    "plt.ylim(-1.0, 4)\n",
    "plt.xlabel('X')\n",
    "plt.ylabel('Y')\n",
    "plt.grid(True)\n",
    "plt.legend()\n",
    "\n",
    "# Oznaczenie osi X i Y\n",
    "plt.axhline(0, color='black', linewidth=1.5)\n",
    "plt.axvline(0, color='black', linewidth=1.5)\n",
    "\n",
    "# Wyświetlanie wykresu\n",
    "plt.show()\n"
   ]
  },
  {
   "cell_type": "markdown",
   "id": "dd95f004-5609-4e95-a0b9-8f1f0e872251",
   "metadata": {},
   "source": [
    "Możemy zaobserwować, że zwiększając przestrzeń w dwóch kierunkach powodujemy wydłużenie wektora v. To jest właśnie przekształcenie liniowe.\n",
    "\n",
    "W przekształceniach liniowych osiągamy cztery rodzaje ruchu:\n",
    "* skalowanie - rozciąganie, kurczenie wektora,\n",
    "* obrót - obracanie przestrzeni wektorowej,\n",
    "* ścinanie,\n",
    "* inwersja - wektor i i j zamieniają się miejscami. "
   ]
  }
 ],
 "metadata": {
  "kernelspec": {
   "display_name": "Python 3 (ipykernel)",
   "language": "python",
   "name": "python3"
  },
  "language_info": {
   "codemirror_mode": {
    "name": "ipython",
    "version": 3
   },
   "file_extension": ".py",
   "mimetype": "text/x-python",
   "name": "python",
   "nbconvert_exporter": "python",
   "pygments_lexer": "ipython3",
   "version": "3.9.7"
  }
 },
 "nbformat": 4,
 "nbformat_minor": 5
}
