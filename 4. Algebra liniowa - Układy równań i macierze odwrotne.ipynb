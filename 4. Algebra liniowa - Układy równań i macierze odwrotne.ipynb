{
 "cells": [
  {
   "cell_type": "markdown",
   "id": "2dd35b40-c6b3-4fcd-91da-eb09c472ba32",
   "metadata": {},
   "source": [
    "# Algebra liniowa - Układy równań i macierze odwrotne\n",
    "\n",
    "Jednym z zastosowań algebry liniowej jest rozwiązywanie układów równań. Zwłaszcza takich, dla których rozwiązanie poprzez operacje algebraiczne byłoby skomplikowane. \n",
    "\n",
    "Dla przykładu mamy następujący układ równań i chcemy wyznaczyć x,y,z:\n",
    "\n",
    "4x + 2y + 4z = 44\n",
    "\n",
    "5x + 3y + 7z = 56\n",
    "\n",
    "9x + 3y + 6z = 72\n",
    "\n",
    "\n",
    "Wyodrobębnimy współczynnniki do macierzy A:"
   ]
  },
  {
   "cell_type": "code",
   "execution_count": 15,
   "id": "433034c8-2621-4d20-8f53-e17dff16199c",
   "metadata": {},
   "outputs": [
    {
     "data": {
      "text/latex": [
       "$\\displaystyle \\left[\\begin{matrix}4 & 2 & 4\\\\5 & 3 & 7\\\\9 & 3 & 6\\end{matrix}\\right]$"
      ],
      "text/plain": [
       "Matrix([\n",
       "[4, 2, 4],\n",
       "[5, 3, 7],\n",
       "[9, 3, 6]])"
      ]
     },
     "execution_count": 15,
     "metadata": {},
     "output_type": "execute_result"
    }
   ],
   "source": [
    "from sympy import *\n",
    "import numpy as np\n",
    "from numpy.linalg import inv\n",
    "\n",
    "A = Matrix([\n",
    "    [4,2,4],\n",
    "    [5,3,7],\n",
    "    [9,3,6]\n",
    "])\n",
    "A"
   ]
  },
  {
   "cell_type": "markdown",
   "id": "d9cf41a1-20df-420d-8fc1-2f16f0ae44d7",
   "metadata": {},
   "source": [
    "Wyniki równań (po prawej stronie) do macierzy B:"
   ]
  },
  {
   "cell_type": "code",
   "execution_count": 16,
   "id": "e4c69ed5-f13a-4c9d-ab3f-27b7ab0fd500",
   "metadata": {},
   "outputs": [
    {
     "data": {
      "text/latex": [
       "$\\displaystyle \\left[\\begin{matrix}44\\\\56\\\\72\\end{matrix}\\right]$"
      ],
      "text/plain": [
       "Matrix([\n",
       "[44],\n",
       "[56],\n",
       "[72]])"
      ]
     },
     "execution_count": 16,
     "metadata": {},
     "output_type": "execute_result"
    }
   ],
   "source": [
    "B = Matrix([44,56,72])\n",
    "B"
   ]
  },
  {
   "cell_type": "markdown",
   "id": "e442f79d-ca29-4e69-b901-74e8e49dee0e",
   "metadata": {},
   "source": [
    "Aby uzyskać wyniki w macierzy X, konieczne jest obliczenie odwrotności macierzy A oznaczanej przez A-1 i pomnożenie macierzy:"
   ]
  },
  {
   "cell_type": "code",
   "execution_count": 17,
   "id": "8ff4b78a-6bc6-4f8a-a16e-19041d30d639",
   "metadata": {},
   "outputs": [
    {
     "data": {
      "text/latex": [
       "$\\displaystyle \\left[\\begin{matrix}- \\frac{1}{2} & 0 & \\frac{1}{3}\\\\\\frac{11}{2} & -2 & - \\frac{4}{3}\\\\-2 & 1 & \\frac{1}{3}\\end{matrix}\\right]$"
      ],
      "text/plain": [
       "Matrix([\n",
       "[-1/2,  0,  1/3],\n",
       "[11/2, -2, -4/3],\n",
       "[  -2,  1,  1/3]])"
      ]
     },
     "execution_count": 17,
     "metadata": {},
     "output_type": "execute_result"
    }
   ],
   "source": [
    "A_inv_1 = A.inv()\n",
    "A_inv_1"
   ]
  },
  {
   "cell_type": "markdown",
   "id": "1a50cd79-8b59-43d1-b8d4-23ba06c7af1b",
   "metadata": {},
   "source": [
    "W wyniku pomnożenie macierzy A przez odwrotną macierz A, otrzymujemy macierze jednostkową:"
   ]
  },
  {
   "cell_type": "code",
   "execution_count": 18,
   "id": "2b424772-df6e-4185-988d-3f73fcd95245",
   "metadata": {},
   "outputs": [
    {
     "data": {
      "text/latex": [
       "$\\displaystyle \\left[\\begin{matrix}1 & 0 & 0\\\\0 & 1 & 0\\\\0 & 0 & 1\\end{matrix}\\right]$"
      ],
      "text/plain": [
       "Matrix([\n",
       "[1, 0, 0],\n",
       "[0, 1, 0],\n",
       "[0, 0, 1]])"
      ]
     },
     "execution_count": 18,
     "metadata": {},
     "output_type": "execute_result"
    }
   ],
   "source": [
    "jednostkowa = A_inv_1 * A\n",
    "jednostkowa"
   ]
  },
  {
   "cell_type": "markdown",
   "id": "3222521a-970c-45d2-8d15-d977463cf3c5",
   "metadata": {},
   "source": [
    "Rozwiązanie układu równań w sympy:"
   ]
  },
  {
   "cell_type": "code",
   "execution_count": 19,
   "id": "817bada0-1e9a-436a-b70e-2b3f1dc5043e",
   "metadata": {},
   "outputs": [
    {
     "data": {
      "text/latex": [
       "$\\displaystyle \\left[\\begin{matrix}2\\\\34\\\\-8\\end{matrix}\\right]$"
      ],
      "text/plain": [
       "Matrix([\n",
       "[ 2],\n",
       "[34],\n",
       "[-8]])"
      ]
     },
     "execution_count": 19,
     "metadata": {},
     "output_type": "execute_result"
    }
   ],
   "source": [
    "X = A.inv() * B\n",
    "X\n"
   ]
  },
  {
   "cell_type": "markdown",
   "id": "1f8e8e45-2db9-4eb7-b18c-1ef7a4d07217",
   "metadata": {},
   "source": [
    "Alternatywnie do rozwiązania układu możemy wykorzystać numpy:"
   ]
  },
  {
   "cell_type": "code",
   "execution_count": 20,
   "id": "5c655a98-27ef-40cc-a8ba-5128d913fdb9",
   "metadata": {},
   "outputs": [],
   "source": [
    "B = np.array([44,56,72])"
   ]
  },
  {
   "cell_type": "code",
   "execution_count": 21,
   "id": "9af12e6b-e1bc-4981-aedf-c92c63020934",
   "metadata": {},
   "outputs": [
    {
     "data": {
      "text/plain": [
       "array([ 2., 34., -8.])"
      ]
     },
     "execution_count": 21,
     "metadata": {},
     "output_type": "execute_result"
    }
   ],
   "source": [
    "A = np.array([\n",
    "    [4,2,4],\n",
    "    [5,3,7],\n",
    "    [9,3,6]\n",
    "])\n",
    "\n",
    "X = inv(A).dot(B)\n",
    "X"
   ]
  },
  {
   "cell_type": "markdown",
   "id": "fa328cec-243a-4ac7-a7e6-dae9e877562c",
   "metadata": {},
   "source": [
    "W wyniku obliczeń z pomocą numpy wiemy już, że:\n",
    "* x = 2\n",
    "* y = 34\n",
    "* z = -8"
   ]
  }
 ],
 "metadata": {
  "kernelspec": {
   "display_name": "Python 3 (ipykernel)",
   "language": "python",
   "name": "python3"
  },
  "language_info": {
   "codemirror_mode": {
    "name": "ipython",
    "version": 3
   },
   "file_extension": ".py",
   "mimetype": "text/x-python",
   "name": "python",
   "nbconvert_exporter": "python",
   "pygments_lexer": "ipython3",
   "version": "3.9.7"
  }
 },
 "nbformat": 4,
 "nbformat_minor": 5
}
