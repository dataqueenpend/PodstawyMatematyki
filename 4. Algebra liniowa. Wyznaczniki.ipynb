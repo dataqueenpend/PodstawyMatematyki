{
 "cells": [
  {
   "cell_type": "markdown",
   "id": "233e1570-23f0-4a62-a2d2-c13c11a70e48",
   "metadata": {},
   "source": [
    "# Algebra liniowa\n",
    "## Wyznaczniki\n",
    "\n"
   ]
  },
  {
   "cell_type": "code",
   "execution_count": 5,
   "id": "14e16fba-2561-43b2-af5d-711bd39c8e38",
   "metadata": {},
   "outputs": [
    {
     "data": {
      "image/png": "[encoded data removed]",
      "text/plain": [
       "<Figure size 432x288 with 1 Axes>"
      ]
     },
     "metadata": {
      "needs_background": "light"
     },
     "output_type": "display_data"
    },
    {
     "data": {
      "image/png": "[encoded data removed]",
      "text/plain": [
       "<Figure size 432x288 with 1 Axes>"
      ]
     },
     "metadata": {
      "needs_background": "light"
     },
     "output_type": "display_data"
    }
   ],
   "source": [
    "import matplotlib.pyplot as plt\n",
    "import numpy as np\n",
    "\n",
    "# First plot\n",
    "fig, ax = plt.subplots()\n",
    "ax.set_aspect('equal')\n",
    "\n",
    "# Base vectors i and j\n",
    "i = np.array([1, 0])\n",
    "j = np.array([0, 1])\n",
    "\n",
    "# Plot base vectors i and j\n",
    "ax.quiver(0, 0, i[0], i[1], scale=1, angles='xy', scale_units='xy', color='b', alpha=0.2)\n",
    "ax.quiver(0, 0, j[0], j[1], scale=1, angles='xy', scale_units='xy', color='r', alpha=0.2)\n",
    "\n",
    "# Grid and axes formatting\n",
    "ax.grid(True, linestyle='dotted')\n",
    "ax.spines['left'].set_linewidth(2)\n",
    "ax.spines['bottom'].set_linewidth(2)\n",
    "ax.spines['right'].set_visible(False)\n",
    "ax.spines['top'].set_visible(False)\n",
    "ax.xaxis.set_tick_params(width=2)\n",
    "ax.yaxis.set_tick_params(width=2)\n",
    "\n",
    "plt.xlim(-3, 3)\n",
    "plt.ylim(-3, 3)\n",
    "plt.xlabel('X')\n",
    "plt.ylabel('Y')\n",
    "plt.title('Base Vectors i and j')\n",
    "\n",
    "plt.show()\n",
    "\n",
    "\n",
    "# Second plot\n",
    "fig, ax = plt.subplots()\n",
    "ax.set_aspect('equal')\n",
    "\n",
    "# Scaled vectors i and j\n",
    "scaled_i = 2 * i\n",
    "scaled_j = 3 * j\n",
    "\n",
    "# Plot scaled vectors i and j\n",
    "ax.quiver(0, 0, scaled_i[0], scaled_i[1], scale=1, angles='xy', scale_units='xy', color='b', alpha=0.2)\n",
    "ax.quiver(0, 0, scaled_j[0], scaled_j[1], scale=1, angles='xy', scale_units='xy', color='r', alpha=0.2)\n",
    "\n",
    "# Grid and axes formatting\n",
    "ax.grid(True, linestyle='dotted')\n",
    "ax.spines['left'].set_linewidth(2)\n",
    "ax.spines['bottom'].set_linewidth(2)\n",
    "ax.spines['right'].set_visible(False)\n",
    "ax.spines['top'].set_visible(False)\n",
    "ax.xaxis.set_tick_params(width=2)\n",
    "ax.yaxis.set_tick_params(width=2)\n",
    "\n",
    "plt.xlim(-3, 3)\n",
    "plt.ylim(-3, 3)\n",
    "plt.xlabel('X')\n",
    "plt.ylabel('Y')\n",
    "plt.title('Scaled Vectors 2i and 3j')\n",
    "\n",
    "plt.show()\n"
   ]
  },
  {
   "cell_type": "code",
   "execution_count": 12,
   "id": "53cb8ca6-2c60-4295-a57f-4f21084f89c8",
   "metadata": {},
   "outputs": [],
   "source": [
    "# import numpy as np\n",
    "# import matplotlib.pyplot as plt\n",
    "\n",
    "# # Tworzenie wektora i\n",
    "# i = np.array([1, 0])\n",
    "\n",
    "# # Tworzenie wektora j\n",
    "# j = np.array([0, 1])\n",
    "\n",
    "# # First plot\n",
    "# fig, ax = plt.subplots()\n",
    "# ax.set_aspect('equal')\n",
    "\n",
    "# # Tworzenie wykresu\n",
    "# ax.quiver(0, 0, i[0], i[1], angles='xy', scale_units='xy', scale=1, color='r', label='i [1,0]')\n",
    "# ax.quiver(0, 0, j[0], j[1], angles='xy', scale_units='xy', scale=1, color='b', label='j [0,1]')\n",
    "\n",
    "# # Konfiguracja osi\n",
    "# plt.xlim(-1, 3)\n",
    "# plt.ylim(-1, 3)\n",
    "# plt.xlabel('X')\n",
    "# plt.ylabel('Y')\n",
    "# plt.grid(True)\n",
    "# plt.legend()\n",
    "\n",
    "# # Oznaczenie osi X i Y\n",
    "# plt.axhline(0, color='black', linewidth=1.5)\n",
    "# plt.axvline(0, color='black', linewidth=1.5)\n",
    "\n",
    "# # Second plot\n",
    "# fig, ax = plt.subplots()\n",
    "# ax.set_aspect('equal')\n",
    "\n",
    "# # Scaled vectors i and j\n",
    "# scaled_i = 2 * i\n",
    "# scaled_j = 3 * j\n",
    "\n",
    "# # Tworzenie wykresu\n",
    "# ax.quiver(0, 0, scaled_i[0], scaled_i[1], angles='xy', scale_units='xy', scale=1, color='r', label='i [1,0]')\n",
    "# ax.quiver(0, 0, scaled_j[0], scaled_j[1], angles='xy', scale_units='xy', scale=1, color='b', label='j [0,1]')\n",
    "\n",
    "# # Konfiguracja osi\n",
    "# plt.xlim(-1, 3)\n",
    "# plt.ylim(-1, 3)\n",
    "# plt.xlabel('X')\n",
    "# plt.ylabel('Y')\n",
    "# plt.grid(True)\n",
    "# plt.legend()\n",
    "\n",
    "# # Oznaczenie osi X i Y\n",
    "# plt.axhline(0, color='black', linewidth=1.5)\n",
    "# plt.axvline(0, color='black', linewidth=1.5)\n",
    "\n",
    "# # Wyświetlanie wykresu\n",
    "# plt.show()\n"
   ]
  },
  {
   "cell_type": "code",
   "execution_count": 7,
   "id": "79074a1c-83e0-4152-b2db-8204e31cee9b",
   "metadata": {},
   "outputs": [
    {
     "data": {
      "text/plain": [
       "6.0"
      ]
     },
     "execution_count": 7,
     "metadata": {},
     "output_type": "execute_result"
    }
   ],
   "source": [
    "from numpy.linalg import det\n",
    "from numpy import array\n",
    "\n",
    "i_1 = array([3,0])\n",
    "j_1 = array([0,2])\n",
    "\n",
    "baza = array([i_1, j_1]).T\n",
    "det(baza) # Obliczenie wartosci wyznacznika w numpy"
   ]
  },
  {
   "cell_type": "markdown",
   "id": "131b5c62-dade-4ee0-b159-0040caffa402",
   "metadata": {},
   "source": [
    "Po przeszkalowaniu wektorów możemy zobserowować zwiększenie obszaru o 6. Ten czynnik jest znany jako wyznacznik. **Wyznacznik** określa, jak zmienia się pole obszaru po przeprowadzeniu przekształceń. Może być to cenna informacja. \n",
    "\n",
    "Nie wszystkie przkeształcenie będą wpływać na wyznacznik. Na przykład obrót i ścięcie (bez skalowania) nie będzie miało wpływu na wartość wyznacznika. "
   ]
  },
  {
   "cell_type": "code",
   "execution_count": 13,
   "id": "e82f4ac4-90fa-41e0-bedc-6ea4582dd231",
   "metadata": {},
   "outputs": [
    {
     "data": {
      "text/plain": [
       "1.0"
      ]
     },
     "execution_count": 13,
     "metadata": {},
     "output_type": "execute_result"
    }
   ],
   "source": [
    "i_1 = array([1,0])\n",
    "j_1 = array([1,1])\n",
    "\n",
    "baza = array([i_1, j_1]).T\n",
    "det(baza)"
   ]
  },
  {
   "cell_type": "markdown",
   "id": "4fb8a7fd-cafc-49a2-9c6b-82c8427fd3da",
   "metadata": {},
   "source": [
    "Czasem możemy mieć do czynienia z sytuacją, gdy wyznacznik będzie miał wartość 0. Co to oznacza? Oznacza to, że przestrzeń dwuwymiarowa została skompresowana do jednego wymiaru."
   ]
  },
  {
   "cell_type": "code",
   "execution_count": 15,
   "id": "0d481c4b-c150-4e01-98f5-4d6d6e454080",
   "metadata": {},
   "outputs": [
    {
     "data": {
      "text/plain": [
       "0.0"
      ]
     },
     "execution_count": 15,
     "metadata": {},
     "output_type": "execute_result"
    }
   ],
   "source": [
    "i_1 = array([-2, 1])\n",
    "j_1 = array([3, -1.5])\n",
    "\n",
    "baza = array([i_1, j_1]).T\n",
    "det(baza)"
   ]
  },
  {
   "cell_type": "markdown",
   "id": "3ef90f1a-6bdb-4463-8ba0-064a5e7ca8ef",
   "metadata": {},
   "source": [
    "Jeśli wyznacznik będzie równy zero, może to oznaczać, że problem będzie trudny do rozwiązania lub nierozwiązywalny. "
   ]
  }
 ],
 "metadata": {
  "kernelspec": {
   "display_name": "Python 3 (ipykernel)",
   "language": "python",
   "name": "python3"
  },
  "language_info": {
   "codemirror_mode": {
    "name": "ipython",
    "version": 3
   },
   "file_extension": ".py",
   "mimetype": "text/x-python",
   "name": "python",
   "nbconvert_exporter": "python",
   "pygments_lexer": "ipython3",
   "version": "3.9.7"
  }
 },
 "nbformat": 4,
 "nbformat_minor": 5
}
