{
 "cells": [
  {
   "cell_type": "markdown",
   "id": "9b57087f-65ed-443c-8c1a-9184ebf94fde",
   "metadata": {},
   "source": [
    "# Hyperparameter tuning \n",
    "\n",
    "Some models have various of different parameters and those parameters have sometimes even infitinte number of possibilites to choose from. \n",
    "\n",
    "It is of course impossible, to check all the possibilities manually, to have the best fit for hyperparameters in the model. In order to make it more efficient we can check different options by using such tools as Randomized Search Cross Validation or Grid Search Cross Validation. \n",
    "\n",
    "Examples?\n",
    "* hyperparameter tuning on ridge/lasso regression and choosing the right value of alpha,\n",
    "* choosing the right value of n_neighbors in knn model.\n",
    "\n",
    "While choosing the best hyperparameters we use Cross Validation to avoid overfitting. We can also do a traditional train/test split before hand."
   ]
  },
  {
   "cell_type": "code",
   "execution_count": 5,
   "id": "3bf9eac4-451a-4241-8399-c45b3669174f",
   "metadata": {},
   "outputs": [
    {
     "name": "stdout",
     "output_type": "stream",
     "text": [
      "Best Hyperparameters:  {'alpha': 0.0001, 'solver': 'auto'}\n",
      "Best Score:  0.7152217272017058\n"
     ]
    }
   ],
   "source": [
    "from sklearn.datasets import load_boston\n",
    "from sklearn.model_selection import GridSearchCV, KFold\n",
    "from sklearn.linear_model import Ridge\n",
    "import numpy as np\n",
    "\n",
    "X, y = load_boston(return_X_y=True)\n",
    "ridge = Ridge()\n",
    "\n",
    "\n",
    "# Define the hyperparameter grid\n",
    "param_grid = {\n",
    "    'alpha': np.arange(0.0001, 1, 10),\n",
    "    'solver': ['auto', 'sag', 'cholesky', 'lsqr', 'sparse_cg']\n",
    "}\n",
    "\n",
    "# Create the GridSearchCV object with Ridge regression and k-fold cross-validation\n",
    "grid_search = GridSearchCV(estimator=ridge, \n",
    "                           param_grid=param_grid, \n",
    "                           cv=KFold(n_splits=5,\n",
    "                                   shuffle=True,\n",
    "                                   random_state=42))\n",
    "\n",
    "# Fit the model to the data\n",
    "grid_search.fit(X, y)\n",
    "\n",
    "# Print the best hyperparameters and corresponding score\n",
    "print(\"Best Hyperparameters: \", grid_search.best_params_)\n",
    "print(\"Best Score: \", grid_search.best_score_)"
   ]
  },
  {
   "cell_type": "markdown",
   "id": "f04f7ac7-aea3-4008-b21f-e2dd71ffeb00",
   "metadata": {},
   "source": [
    "**Grid Search limitations**\n",
    "\n",
    "The main problem with Grid Search is it's scaling. The number of fits is equal to the number of hyperparameters multiplied by the number of values multiplied by the number of folds.\n",
    "\n",
    "To make the search for hyperparameters more efficient we can use RandomizedSearchCV."
   ]
  },
  {
   "cell_type": "code",
   "execution_count": 7,
   "id": "8e36ecef-8496-4120-92bf-9c96d3cfe300",
   "metadata": {},
   "outputs": [
    {
     "name": "stdout",
     "output_type": "stream",
     "text": [
      "Best Hyperparameters:  {'solver': 'auto', 'alpha': 0.0001}\n",
      "Best Score:  0.7152217272017058\n"
     ]
    }
   ],
   "source": [
    "from sklearn.datasets import load_boston\n",
    "from sklearn.model_selection import RandomizedSearchCV, KFold\n",
    "from sklearn.linear_model import Ridge\n",
    "import numpy as np\n",
    "\n",
    "X, y = load_boston(return_X_y=True)\n",
    "ridge = Ridge()\n",
    "\n",
    "\n",
    "# Define the hyperparameter grid\n",
    "param_grid = {\n",
    "    'alpha': np.arange(0.0001, 1, 10),\n",
    "    'solver': ['auto', 'sag', 'cholesky', 'lsqr', 'sparse_cg']\n",
    "}\n",
    "# Defnine number of folds\n",
    "kf = KFold(n_splits=5, shuffle=True, random_state=42)\n",
    "\n",
    "r_cv = RandomizedSearchCV(ridge, param_grid, cv=kf, n_iter=2)\n",
    "\n",
    "# Fit the model to the data\n",
    "r_cv.fit(X, y)\n",
    "\n",
    "# Print the best hyperparameters and corresponding score\n",
    "print(\"Best Hyperparameters: \", r_cv.best_params_)\n",
    "print(\"Best Score: \", r_cv.best_score_)"
   ]
  },
  {
   "cell_type": "markdown",
   "id": "0c58eef5-7d13-4f62-a6f2-18455662460d",
   "metadata": {},
   "source": []
  }
 ],
 "metadata": {
  "kernelspec": {
   "display_name": "Python 3 (ipykernel)",
   "language": "python",
   "name": "python3"
  },
  "language_info": {
   "codemirror_mode": {
    "name": "ipython",
    "version": 3
   },
   "file_extension": ".py",
   "mimetype": "text/x-python",
   "name": "python",
   "nbconvert_exporter": "python",
   "pygments_lexer": "ipython3",
   "version": "3.9.7"
  }
 },
 "nbformat": 4,
 "nbformat_minor": 5
}
