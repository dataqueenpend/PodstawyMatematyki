{
 "cells": [
  {
   "cell_type": "markdown",
   "id": "6880e1cc-dd43-475e-9093-f3f50d8cbbe9",
   "metadata": {},
   "source": [
    "# 3.1 Statystyka opisowa - Rozkłady\n",
    "\n",
    "Patrz rozdział 2.1 - dla rozkładów: beta i dwumianowy.\n",
    "\n",
    "## Rozkład normalny\n",
    "\n",
    "\n"
   ]
  }
 ],
 "metadata": {
  "kernelspec": {
   "display_name": "Python 3 (ipykernel)",
   "language": "python",
   "name": "python3"
  },
  "language_info": {
   "codemirror_mode": {
    "name": "ipython",
    "version": 3
   },
   "file_extension": ".py",
   "mimetype": "text/x-python",
   "name": "python",
   "nbconvert_exporter": "python",
   "pygments_lexer": "ipython3",
   "version": "3.9.7"
  }
 },
 "nbformat": 4,
 "nbformat_minor": 5
}
