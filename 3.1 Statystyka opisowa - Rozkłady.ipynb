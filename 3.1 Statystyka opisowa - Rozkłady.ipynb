{
 "cells": [
  {
   "cell_type": "markdown",
   "id": "6880e1cc-dd43-475e-9093-f3f50d8cbbe9",
   "metadata": {},
   "source": [
    "# 3.1 Statystyka opisowa - Rozkłady\n",
    "\n",
    "Patrz rozdział 2.1 - dla rozkładów: beta i dwumianowy.\n",
    "\n",
    "## Rozkład normalny\n",
    "\n",
    "Rozkład normalny znany również jako rozkład Gaussa. Posiada charakterystyczny wygląd dzwonu. Największa część elementów zbiorów skupia się po środku rozkładu (w okolicach średniej). Jego ogony - po prawej i lewej stronie - definiuje się jako odchylenia standardowe. Są one coraz cieńsze, im bardziej oddalone od średniej.\n",
    "\n",
    "*Dlaczego normalny?*\n",
    "\n",
    "Występuje naturalnie i jest charakteryczny dla wielu populacji. Spotykamy go przy badaniach socjologicznych, w inżynierii, przyrodzie i innych dziedzinach. \n",
    "\n",
    "*Wizualizacja rozkładu normalnego*\n",
    "\n",
    "Częstym sposobem na wizualizację rozkładu normalnego jest histogram. Dzielimy punkty danych na przedziały i sprawdzamy ile punktów danych mieści się w danym przedziale. \n",
    "\n",
    "Jest tutaj kluczowe, aby właściwie dopasować przedziały. Zbyt wąskie nie będą miały dla nas większego sensu - nie będzie w nich wystarczająco dużo wartości, aby pokazać jakąś tendencję. \n",
    "\n",
    "*Nieidealny dzwon? To nie powód do obaw!*\n",
    "\n",
    "Jeśli wizualizacja nie pokazuje idealnego kształtu dzwonu, to nie ma się czym czym martwić. Próba rzadko jest reprezentatywna dla całej populacji. \n"
   ]
  },
  {
   "cell_type": "code",
   "execution_count": 3,
   "id": "0000cba5-2272-40e9-be7d-8074e8f6763e",
   "metadata": {},
   "outputs": [
    {
     "data": {
      "image/png": "[encoded data removed]",
      "text/plain": [
       "<Figure size 432x288 with 1 Axes>"
      ]
     },
     "metadata": {
      "needs_background": "light"
     },
     "output_type": "display_data"
    }
   ],
   "source": [
    "import numpy as np\n",
    "import matplotlib.pyplot as plt\n",
    "\n",
    "mu = 0\n",
    "sigma = 1 #std\n",
    "data = np.random.normal(mu, sigma, 1000)\n",
    "\n",
    "plt.hist(data, bins=30, density=True, alpha=0.7, color='skyblue')\n",
    "\n",
    "# x = np.linspace(mu - 4*sigma, mu + 4*sigma, 100)\n",
    "# y = 1/(sigma * np.sqrt(2*np.pi)) * np.exp(-(x-mu)**2/(2*sigma**2))\n",
    "# plt.plot(x,y, color='red')\n",
    "\n",
    "plt.xlabel('Wartosci')\n",
    "plt.ylabel('Gestosc')\n",
    "plt.title('Rozklad normalny')\n",
    "\n",
    "plt.show()"
   ]
  },
  {
   "cell_type": "markdown",
   "id": "46fb5030-edf7-4928-b7ac-7c14835075ed",
   "metadata": {},
   "source": [
    "**Cechy rozkładu normalnego**\n",
    "\n",
    "* Większość wartości zebranych wokół średniej\n",
    "* Jest szeroki i wąski\n",
    "* Jest symetryczny\n",
    "* Ogony są najmniej prawdopodobnymi wartościami i dążą do zera, nigdy go nie osiągając\n",
    "* Jest reprezentatywny dla wielu naturalnych zjawisk\n",
    "* Generalizuje nietypowe problemy (centralne twierdzenie graniczne)"
   ]
  },
  {
   "cell_type": "markdown",
   "id": "882f7167-8445-4fd0-a4af-0fb356b1ec2e",
   "metadata": {},
   "source": [
    "### Funkcja gęstości prawdopodobieństwa (PDF - Probability Density Function)\n",
    "\n"
   ]
  }
 ],
 "metadata": {
  "kernelspec": {
   "display_name": "Python 3 (ipykernel)",
   "language": "python",
   "name": "python3"
  },
  "language_info": {
   "codemirror_mode": {
    "name": "ipython",
    "version": 3
   },
   "file_extension": ".py",
   "mimetype": "text/x-python",
   "name": "python",
   "nbconvert_exporter": "python",
   "pygments_lexer": "ipython3",
   "version": "3.9.7"
  }
 },
 "nbformat": 4,
 "nbformat_minor": 5
}
